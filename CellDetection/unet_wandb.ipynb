{
  "nbformat": 4,
  "nbformat_minor": 0,
  "metadata": {
    "colab": {
      "provenance": []
    },
    "kernelspec": {
      "name": "python3",
      "display_name": "Python 3"
    },
    "language_info": {
      "name": "python"
    },
    "accelerator": "GPU",
    "widgets": {
      "application/vnd.jupyter.widget-state+json": {
        "1f2537b813864c9289ef86c4ef279096": {
          "model_module": "@jupyter-widgets/controls",
          "model_name": "VBoxModel",
          "model_module_version": "1.5.0",
          "state": {
            "_dom_classes": [],
            "_model_module": "@jupyter-widgets/controls",
            "_model_module_version": "1.5.0",
            "_model_name": "VBoxModel",
            "_view_count": null,
            "_view_module": "@jupyter-widgets/controls",
            "_view_module_version": "1.5.0",
            "_view_name": "VBoxView",
            "box_style": "",
            "children": [
              "IPY_MODEL_fd8bbc14e1be41d3bbd12747c14bdda9",
              "IPY_MODEL_4cbcdcf607ec4816b1873558bb26c6e4"
            ],
            "layout": "IPY_MODEL_f75f7bb8b0ed444984217741f31c81c2"
          }
        },
        "fd8bbc14e1be41d3bbd12747c14bdda9": {
          "model_module": "@jupyter-widgets/controls",
          "model_name": "LabelModel",
          "model_module_version": "1.5.0",
          "state": {
            "_dom_classes": [],
            "_model_module": "@jupyter-widgets/controls",
            "_model_module_version": "1.5.0",
            "_model_name": "LabelModel",
            "_view_count": null,
            "_view_module": "@jupyter-widgets/controls",
            "_view_module_version": "1.5.0",
            "_view_name": "LabelView",
            "description": "",
            "description_tooltip": null,
            "layout": "IPY_MODEL_3e537ef9219e419daa98422782e299d2",
            "placeholder": "​",
            "style": "IPY_MODEL_ad9ac843dfae48f8b3a4264ba6f50472",
            "value": "0.013 MB of 0.013 MB uploaded (0.000 MB deduped)\r"
          }
        },
        "4cbcdcf607ec4816b1873558bb26c6e4": {
          "model_module": "@jupyter-widgets/controls",
          "model_name": "FloatProgressModel",
          "model_module_version": "1.5.0",
          "state": {
            "_dom_classes": [],
            "_model_module": "@jupyter-widgets/controls",
            "_model_module_version": "1.5.0",
            "_model_name": "FloatProgressModel",
            "_view_count": null,
            "_view_module": "@jupyter-widgets/controls",
            "_view_module_version": "1.5.0",
            "_view_name": "ProgressView",
            "bar_style": "",
            "description": "",
            "description_tooltip": null,
            "layout": "IPY_MODEL_cef6c32abe384458a540dff99426038d",
            "max": 1,
            "min": 0,
            "orientation": "horizontal",
            "style": "IPY_MODEL_d3142f2739f64bbaae292debf5d88e86",
            "value": 1
          }
        },
        "f75f7bb8b0ed444984217741f31c81c2": {
          "model_module": "@jupyter-widgets/base",
          "model_name": "LayoutModel",
          "model_module_version": "1.2.0",
          "state": {
            "_model_module": "@jupyter-widgets/base",
            "_model_module_version": "1.2.0",
            "_model_name": "LayoutModel",
            "_view_count": null,
            "_view_module": "@jupyter-widgets/base",
            "_view_module_version": "1.2.0",
            "_view_name": "LayoutView",
            "align_content": null,
            "align_items": null,
            "align_self": null,
            "border": null,
            "bottom": null,
            "display": null,
            "flex": null,
            "flex_flow": null,
            "grid_area": null,
            "grid_auto_columns": null,
            "grid_auto_flow": null,
            "grid_auto_rows": null,
            "grid_column": null,
            "grid_gap": null,
            "grid_row": null,
            "grid_template_areas": null,
            "grid_template_columns": null,
            "grid_template_rows": null,
            "height": null,
            "justify_content": null,
            "justify_items": null,
            "left": null,
            "margin": null,
            "max_height": null,
            "max_width": null,
            "min_height": null,
            "min_width": null,
            "object_fit": null,
            "object_position": null,
            "order": null,
            "overflow": null,
            "overflow_x": null,
            "overflow_y": null,
            "padding": null,
            "right": null,
            "top": null,
            "visibility": null,
            "width": null
          }
        },
        "3e537ef9219e419daa98422782e299d2": {
          "model_module": "@jupyter-widgets/base",
          "model_name": "LayoutModel",
          "model_module_version": "1.2.0",
          "state": {
            "_model_module": "@jupyter-widgets/base",
            "_model_module_version": "1.2.0",
            "_model_name": "LayoutModel",
            "_view_count": null,
            "_view_module": "@jupyter-widgets/base",
            "_view_module_version": "1.2.0",
            "_view_name": "LayoutView",
            "align_content": null,
            "align_items": null,
            "align_self": null,
            "border": null,
            "bottom": null,
            "display": null,
            "flex": null,
            "flex_flow": null,
            "grid_area": null,
            "grid_auto_columns": null,
            "grid_auto_flow": null,
            "grid_auto_rows": null,
            "grid_column": null,
            "grid_gap": null,
            "grid_row": null,
            "grid_template_areas": null,
            "grid_template_columns": null,
            "grid_template_rows": null,
            "height": null,
            "justify_content": null,
            "justify_items": null,
            "left": null,
            "margin": null,
            "max_height": null,
            "max_width": null,
            "min_height": null,
            "min_width": null,
            "object_fit": null,
            "object_position": null,
            "order": null,
            "overflow": null,
            "overflow_x": null,
            "overflow_y": null,
            "padding": null,
            "right": null,
            "top": null,
            "visibility": null,
            "width": null
          }
        },
        "ad9ac843dfae48f8b3a4264ba6f50472": {
          "model_module": "@jupyter-widgets/controls",
          "model_name": "DescriptionStyleModel",
          "model_module_version": "1.5.0",
          "state": {
            "_model_module": "@jupyter-widgets/controls",
            "_model_module_version": "1.5.0",
            "_model_name": "DescriptionStyleModel",
            "_view_count": null,
            "_view_module": "@jupyter-widgets/base",
            "_view_module_version": "1.2.0",
            "_view_name": "StyleView",
            "description_width": ""
          }
        },
        "cef6c32abe384458a540dff99426038d": {
          "model_module": "@jupyter-widgets/base",
          "model_name": "LayoutModel",
          "model_module_version": "1.2.0",
          "state": {
            "_model_module": "@jupyter-widgets/base",
            "_model_module_version": "1.2.0",
            "_model_name": "LayoutModel",
            "_view_count": null,
            "_view_module": "@jupyter-widgets/base",
            "_view_module_version": "1.2.0",
            "_view_name": "LayoutView",
            "align_content": null,
            "align_items": null,
            "align_self": null,
            "border": null,
            "bottom": null,
            "display": null,
            "flex": null,
            "flex_flow": null,
            "grid_area": null,
            "grid_auto_columns": null,
            "grid_auto_flow": null,
            "grid_auto_rows": null,
            "grid_column": null,
            "grid_gap": null,
            "grid_row": null,
            "grid_template_areas": null,
            "grid_template_columns": null,
            "grid_template_rows": null,
            "height": null,
            "justify_content": null,
            "justify_items": null,
            "left": null,
            "margin": null,
            "max_height": null,
            "max_width": null,
            "min_height": null,
            "min_width": null,
            "object_fit": null,
            "object_position": null,
            "order": null,
            "overflow": null,
            "overflow_x": null,
            "overflow_y": null,
            "padding": null,
            "right": null,
            "top": null,
            "visibility": null,
            "width": null
          }
        },
        "d3142f2739f64bbaae292debf5d88e86": {
          "model_module": "@jupyter-widgets/controls",
          "model_name": "ProgressStyleModel",
          "model_module_version": "1.5.0",
          "state": {
            "_model_module": "@jupyter-widgets/controls",
            "_model_module_version": "1.5.0",
            "_model_name": "ProgressStyleModel",
            "_view_count": null,
            "_view_module": "@jupyter-widgets/base",
            "_view_module_version": "1.2.0",
            "_view_name": "StyleView",
            "bar_color": null,
            "description_width": ""
          }
        },
        "2e0f86d10e124672b92b6c85726c7f99": {
          "model_module": "@jupyter-widgets/controls",
          "model_name": "VBoxModel",
          "model_module_version": "1.5.0",
          "state": {
            "_dom_classes": [],
            "_model_module": "@jupyter-widgets/controls",
            "_model_module_version": "1.5.0",
            "_model_name": "VBoxModel",
            "_view_count": null,
            "_view_module": "@jupyter-widgets/controls",
            "_view_module_version": "1.5.0",
            "_view_name": "VBoxView",
            "box_style": "",
            "children": [
              "IPY_MODEL_546a9d72cfc24dd6a983435f5d4c7c11",
              "IPY_MODEL_0e48b5e73f204a6ebcdf7ca8dd12af7d"
            ],
            "layout": "IPY_MODEL_cced61430050437fb7badde7966ef9f0"
          }
        },
        "546a9d72cfc24dd6a983435f5d4c7c11": {
          "model_module": "@jupyter-widgets/controls",
          "model_name": "LabelModel",
          "model_module_version": "1.5.0",
          "state": {
            "_dom_classes": [],
            "_model_module": "@jupyter-widgets/controls",
            "_model_module_version": "1.5.0",
            "_model_name": "LabelModel",
            "_view_count": null,
            "_view_module": "@jupyter-widgets/controls",
            "_view_module_version": "1.5.0",
            "_view_name": "LabelView",
            "description": "",
            "description_tooltip": null,
            "layout": "IPY_MODEL_2ce485a904bd4c8ab62f3642e5c03a04",
            "placeholder": "​",
            "style": "IPY_MODEL_f94f5c1207764b6cbd96f573a4f0ca48",
            "value": "0.013 MB of 0.013 MB uploaded (0.000 MB deduped)\r"
          }
        },
        "0e48b5e73f204a6ebcdf7ca8dd12af7d": {
          "model_module": "@jupyter-widgets/controls",
          "model_name": "FloatProgressModel",
          "model_module_version": "1.5.0",
          "state": {
            "_dom_classes": [],
            "_model_module": "@jupyter-widgets/controls",
            "_model_module_version": "1.5.0",
            "_model_name": "FloatProgressModel",
            "_view_count": null,
            "_view_module": "@jupyter-widgets/controls",
            "_view_module_version": "1.5.0",
            "_view_name": "ProgressView",
            "bar_style": "",
            "description": "",
            "description_tooltip": null,
            "layout": "IPY_MODEL_fda9c21119594b0999d61bce34383735",
            "max": 1,
            "min": 0,
            "orientation": "horizontal",
            "style": "IPY_MODEL_88293df1234949f29ce140acd0b72dff",
            "value": 1
          }
        },
        "cced61430050437fb7badde7966ef9f0": {
          "model_module": "@jupyter-widgets/base",
          "model_name": "LayoutModel",
          "model_module_version": "1.2.0",
          "state": {
            "_model_module": "@jupyter-widgets/base",
            "_model_module_version": "1.2.0",
            "_model_name": "LayoutModel",
            "_view_count": null,
            "_view_module": "@jupyter-widgets/base",
            "_view_module_version": "1.2.0",
            "_view_name": "LayoutView",
            "align_content": null,
            "align_items": null,
            "align_self": null,
            "border": null,
            "bottom": null,
            "display": null,
            "flex": null,
            "flex_flow": null,
            "grid_area": null,
            "grid_auto_columns": null,
            "grid_auto_flow": null,
            "grid_auto_rows": null,
            "grid_column": null,
            "grid_gap": null,
            "grid_row": null,
            "grid_template_areas": null,
            "grid_template_columns": null,
            "grid_template_rows": null,
            "height": null,
            "justify_content": null,
            "justify_items": null,
            "left": null,
            "margin": null,
            "max_height": null,
            "max_width": null,
            "min_height": null,
            "min_width": null,
            "object_fit": null,
            "object_position": null,
            "order": null,
            "overflow": null,
            "overflow_x": null,
            "overflow_y": null,
            "padding": null,
            "right": null,
            "top": null,
            "visibility": null,
            "width": null
          }
        },
        "2ce485a904bd4c8ab62f3642e5c03a04": {
          "model_module": "@jupyter-widgets/base",
          "model_name": "LayoutModel",
          "model_module_version": "1.2.0",
          "state": {
            "_model_module": "@jupyter-widgets/base",
            "_model_module_version": "1.2.0",
            "_model_name": "LayoutModel",
            "_view_count": null,
            "_view_module": "@jupyter-widgets/base",
            "_view_module_version": "1.2.0",
            "_view_name": "LayoutView",
            "align_content": null,
            "align_items": null,
            "align_self": null,
            "border": null,
            "bottom": null,
            "display": null,
            "flex": null,
            "flex_flow": null,
            "grid_area": null,
            "grid_auto_columns": null,
            "grid_auto_flow": null,
            "grid_auto_rows": null,
            "grid_column": null,
            "grid_gap": null,
            "grid_row": null,
            "grid_template_areas": null,
            "grid_template_columns": null,
            "grid_template_rows": null,
            "height": null,
            "justify_content": null,
            "justify_items": null,
            "left": null,
            "margin": null,
            "max_height": null,
            "max_width": null,
            "min_height": null,
            "min_width": null,
            "object_fit": null,
            "object_position": null,
            "order": null,
            "overflow": null,
            "overflow_x": null,
            "overflow_y": null,
            "padding": null,
            "right": null,
            "top": null,
            "visibility": null,
            "width": null
          }
        },
        "f94f5c1207764b6cbd96f573a4f0ca48": {
          "model_module": "@jupyter-widgets/controls",
          "model_name": "DescriptionStyleModel",
          "model_module_version": "1.5.0",
          "state": {
            "_model_module": "@jupyter-widgets/controls",
            "_model_module_version": "1.5.0",
            "_model_name": "DescriptionStyleModel",
            "_view_count": null,
            "_view_module": "@jupyter-widgets/base",
            "_view_module_version": "1.2.0",
            "_view_name": "StyleView",
            "description_width": ""
          }
        },
        "fda9c21119594b0999d61bce34383735": {
          "model_module": "@jupyter-widgets/base",
          "model_name": "LayoutModel",
          "model_module_version": "1.2.0",
          "state": {
            "_model_module": "@jupyter-widgets/base",
            "_model_module_version": "1.2.0",
            "_model_name": "LayoutModel",
            "_view_count": null,
            "_view_module": "@jupyter-widgets/base",
            "_view_module_version": "1.2.0",
            "_view_name": "LayoutView",
            "align_content": null,
            "align_items": null,
            "align_self": null,
            "border": null,
            "bottom": null,
            "display": null,
            "flex": null,
            "flex_flow": null,
            "grid_area": null,
            "grid_auto_columns": null,
            "grid_auto_flow": null,
            "grid_auto_rows": null,
            "grid_column": null,
            "grid_gap": null,
            "grid_row": null,
            "grid_template_areas": null,
            "grid_template_columns": null,
            "grid_template_rows": null,
            "height": null,
            "justify_content": null,
            "justify_items": null,
            "left": null,
            "margin": null,
            "max_height": null,
            "max_width": null,
            "min_height": null,
            "min_width": null,
            "object_fit": null,
            "object_position": null,
            "order": null,
            "overflow": null,
            "overflow_x": null,
            "overflow_y": null,
            "padding": null,
            "right": null,
            "top": null,
            "visibility": null,
            "width": null
          }
        },
        "88293df1234949f29ce140acd0b72dff": {
          "model_module": "@jupyter-widgets/controls",
          "model_name": "ProgressStyleModel",
          "model_module_version": "1.5.0",
          "state": {
            "_model_module": "@jupyter-widgets/controls",
            "_model_module_version": "1.5.0",
            "_model_name": "ProgressStyleModel",
            "_view_count": null,
            "_view_module": "@jupyter-widgets/base",
            "_view_module_version": "1.2.0",
            "_view_name": "StyleView",
            "bar_color": null,
            "description_width": ""
          }
        },
        "48eacb35a2d14ca48fd76225b249537e": {
          "model_module": "@jupyter-widgets/controls",
          "model_name": "VBoxModel",
          "model_module_version": "1.5.0",
          "state": {
            "_dom_classes": [],
            "_model_module": "@jupyter-widgets/controls",
            "_model_module_version": "1.5.0",
            "_model_name": "VBoxModel",
            "_view_count": null,
            "_view_module": "@jupyter-widgets/controls",
            "_view_module_version": "1.5.0",
            "_view_name": "VBoxView",
            "box_style": "",
            "children": [
              "IPY_MODEL_0ca3da1c22514a55b51f2ffd878a2ba4",
              "IPY_MODEL_b91eeefb5b5341fe9cbe1d35534d94a1"
            ],
            "layout": "IPY_MODEL_9c228ebf54e94a8882bacf6695ec78ec"
          }
        },
        "0ca3da1c22514a55b51f2ffd878a2ba4": {
          "model_module": "@jupyter-widgets/controls",
          "model_name": "LabelModel",
          "model_module_version": "1.5.0",
          "state": {
            "_dom_classes": [],
            "_model_module": "@jupyter-widgets/controls",
            "_model_module_version": "1.5.0",
            "_model_name": "LabelModel",
            "_view_count": null,
            "_view_module": "@jupyter-widgets/controls",
            "_view_module_version": "1.5.0",
            "_view_name": "LabelView",
            "description": "",
            "description_tooltip": null,
            "layout": "IPY_MODEL_9f72f53389844e9099a810a0c2141f64",
            "placeholder": "​",
            "style": "IPY_MODEL_099633e87dd44fc69857c180f0fcc82e",
            "value": "0.013 MB of 0.013 MB uploaded (0.000 MB deduped)\r"
          }
        },
        "b91eeefb5b5341fe9cbe1d35534d94a1": {
          "model_module": "@jupyter-widgets/controls",
          "model_name": "FloatProgressModel",
          "model_module_version": "1.5.0",
          "state": {
            "_dom_classes": [],
            "_model_module": "@jupyter-widgets/controls",
            "_model_module_version": "1.5.0",
            "_model_name": "FloatProgressModel",
            "_view_count": null,
            "_view_module": "@jupyter-widgets/controls",
            "_view_module_version": "1.5.0",
            "_view_name": "ProgressView",
            "bar_style": "",
            "description": "",
            "description_tooltip": null,
            "layout": "IPY_MODEL_1cd52fcc51fd4c69a85f3c572394c9ef",
            "max": 1,
            "min": 0,
            "orientation": "horizontal",
            "style": "IPY_MODEL_8cca75eb5fa74fa4b7f07d6f0febca2c",
            "value": 1
          }
        },
        "9c228ebf54e94a8882bacf6695ec78ec": {
          "model_module": "@jupyter-widgets/base",
          "model_name": "LayoutModel",
          "model_module_version": "1.2.0",
          "state": {
            "_model_module": "@jupyter-widgets/base",
            "_model_module_version": "1.2.0",
            "_model_name": "LayoutModel",
            "_view_count": null,
            "_view_module": "@jupyter-widgets/base",
            "_view_module_version": "1.2.0",
            "_view_name": "LayoutView",
            "align_content": null,
            "align_items": null,
            "align_self": null,
            "border": null,
            "bottom": null,
            "display": null,
            "flex": null,
            "flex_flow": null,
            "grid_area": null,
            "grid_auto_columns": null,
            "grid_auto_flow": null,
            "grid_auto_rows": null,
            "grid_column": null,
            "grid_gap": null,
            "grid_row": null,
            "grid_template_areas": null,
            "grid_template_columns": null,
            "grid_template_rows": null,
            "height": null,
            "justify_content": null,
            "justify_items": null,
            "left": null,
            "margin": null,
            "max_height": null,
            "max_width": null,
            "min_height": null,
            "min_width": null,
            "object_fit": null,
            "object_position": null,
            "order": null,
            "overflow": null,
            "overflow_x": null,
            "overflow_y": null,
            "padding": null,
            "right": null,
            "top": null,
            "visibility": null,
            "width": null
          }
        },
        "9f72f53389844e9099a810a0c2141f64": {
          "model_module": "@jupyter-widgets/base",
          "model_name": "LayoutModel",
          "model_module_version": "1.2.0",
          "state": {
            "_model_module": "@jupyter-widgets/base",
            "_model_module_version": "1.2.0",
            "_model_name": "LayoutModel",
            "_view_count": null,
            "_view_module": "@jupyter-widgets/base",
            "_view_module_version": "1.2.0",
            "_view_name": "LayoutView",
            "align_content": null,
            "align_items": null,
            "align_self": null,
            "border": null,
            "bottom": null,
            "display": null,
            "flex": null,
            "flex_flow": null,
            "grid_area": null,
            "grid_auto_columns": null,
            "grid_auto_flow": null,
            "grid_auto_rows": null,
            "grid_column": null,
            "grid_gap": null,
            "grid_row": null,
            "grid_template_areas": null,
            "grid_template_columns": null,
            "grid_template_rows": null,
            "height": null,
            "justify_content": null,
            "justify_items": null,
            "left": null,
            "margin": null,
            "max_height": null,
            "max_width": null,
            "min_height": null,
            "min_width": null,
            "object_fit": null,
            "object_position": null,
            "order": null,
            "overflow": null,
            "overflow_x": null,
            "overflow_y": null,
            "padding": null,
            "right": null,
            "top": null,
            "visibility": null,
            "width": null
          }
        },
        "099633e87dd44fc69857c180f0fcc82e": {
          "model_module": "@jupyter-widgets/controls",
          "model_name": "DescriptionStyleModel",
          "model_module_version": "1.5.0",
          "state": {
            "_model_module": "@jupyter-widgets/controls",
            "_model_module_version": "1.5.0",
            "_model_name": "DescriptionStyleModel",
            "_view_count": null,
            "_view_module": "@jupyter-widgets/base",
            "_view_module_version": "1.2.0",
            "_view_name": "StyleView",
            "description_width": ""
          }
        },
        "1cd52fcc51fd4c69a85f3c572394c9ef": {
          "model_module": "@jupyter-widgets/base",
          "model_name": "LayoutModel",
          "model_module_version": "1.2.0",
          "state": {
            "_model_module": "@jupyter-widgets/base",
            "_model_module_version": "1.2.0",
            "_model_name": "LayoutModel",
            "_view_count": null,
            "_view_module": "@jupyter-widgets/base",
            "_view_module_version": "1.2.0",
            "_view_name": "LayoutView",
            "align_content": null,
            "align_items": null,
            "align_self": null,
            "border": null,
            "bottom": null,
            "display": null,
            "flex": null,
            "flex_flow": null,
            "grid_area": null,
            "grid_auto_columns": null,
            "grid_auto_flow": null,
            "grid_auto_rows": null,
            "grid_column": null,
            "grid_gap": null,
            "grid_row": null,
            "grid_template_areas": null,
            "grid_template_columns": null,
            "grid_template_rows": null,
            "height": null,
            "justify_content": null,
            "justify_items": null,
            "left": null,
            "margin": null,
            "max_height": null,
            "max_width": null,
            "min_height": null,
            "min_width": null,
            "object_fit": null,
            "object_position": null,
            "order": null,
            "overflow": null,
            "overflow_x": null,
            "overflow_y": null,
            "padding": null,
            "right": null,
            "top": null,
            "visibility": null,
            "width": null
          }
        },
        "8cca75eb5fa74fa4b7f07d6f0febca2c": {
          "model_module": "@jupyter-widgets/controls",
          "model_name": "ProgressStyleModel",
          "model_module_version": "1.5.0",
          "state": {
            "_model_module": "@jupyter-widgets/controls",
            "_model_module_version": "1.5.0",
            "_model_name": "ProgressStyleModel",
            "_view_count": null,
            "_view_module": "@jupyter-widgets/base",
            "_view_module_version": "1.2.0",
            "_view_name": "StyleView",
            "bar_color": null,
            "description_width": ""
          }
        },
        "1e6fd52cb8984cf8a357957056473d93": {
          "model_module": "@jupyter-widgets/controls",
          "model_name": "VBoxModel",
          "model_module_version": "1.5.0",
          "state": {
            "_dom_classes": [],
            "_model_module": "@jupyter-widgets/controls",
            "_model_module_version": "1.5.0",
            "_model_name": "VBoxModel",
            "_view_count": null,
            "_view_module": "@jupyter-widgets/controls",
            "_view_module_version": "1.5.0",
            "_view_name": "VBoxView",
            "box_style": "",
            "children": [
              "IPY_MODEL_5735e22f53584a34a626277a839d6cb6",
              "IPY_MODEL_aa4989c3ce7f40a18fa800a31d399e92"
            ],
            "layout": "IPY_MODEL_6c3c0da6232f49a5852e1862559db764"
          }
        },
        "5735e22f53584a34a626277a839d6cb6": {
          "model_module": "@jupyter-widgets/controls",
          "model_name": "LabelModel",
          "model_module_version": "1.5.0",
          "state": {
            "_dom_classes": [],
            "_model_module": "@jupyter-widgets/controls",
            "_model_module_version": "1.5.0",
            "_model_name": "LabelModel",
            "_view_count": null,
            "_view_module": "@jupyter-widgets/controls",
            "_view_module_version": "1.5.0",
            "_view_name": "LabelView",
            "description": "",
            "description_tooltip": null,
            "layout": "IPY_MODEL_4159840841ea434d90964a620b1cb24e",
            "placeholder": "​",
            "style": "IPY_MODEL_9a10ccb12c75474e86ca40665cdd9fa1",
            "value": "0.013 MB of 0.013 MB uploaded (0.000 MB deduped)\r"
          }
        },
        "aa4989c3ce7f40a18fa800a31d399e92": {
          "model_module": "@jupyter-widgets/controls",
          "model_name": "FloatProgressModel",
          "model_module_version": "1.5.0",
          "state": {
            "_dom_classes": [],
            "_model_module": "@jupyter-widgets/controls",
            "_model_module_version": "1.5.0",
            "_model_name": "FloatProgressModel",
            "_view_count": null,
            "_view_module": "@jupyter-widgets/controls",
            "_view_module_version": "1.5.0",
            "_view_name": "ProgressView",
            "bar_style": "",
            "description": "",
            "description_tooltip": null,
            "layout": "IPY_MODEL_25d5daa1c6674f7a969463bcd1ced1cb",
            "max": 1,
            "min": 0,
            "orientation": "horizontal",
            "style": "IPY_MODEL_e37da367fe7448c98a79214e831a2945",
            "value": 1
          }
        },
        "6c3c0da6232f49a5852e1862559db764": {
          "model_module": "@jupyter-widgets/base",
          "model_name": "LayoutModel",
          "model_module_version": "1.2.0",
          "state": {
            "_model_module": "@jupyter-widgets/base",
            "_model_module_version": "1.2.0",
            "_model_name": "LayoutModel",
            "_view_count": null,
            "_view_module": "@jupyter-widgets/base",
            "_view_module_version": "1.2.0",
            "_view_name": "LayoutView",
            "align_content": null,
            "align_items": null,
            "align_self": null,
            "border": null,
            "bottom": null,
            "display": null,
            "flex": null,
            "flex_flow": null,
            "grid_area": null,
            "grid_auto_columns": null,
            "grid_auto_flow": null,
            "grid_auto_rows": null,
            "grid_column": null,
            "grid_gap": null,
            "grid_row": null,
            "grid_template_areas": null,
            "grid_template_columns": null,
            "grid_template_rows": null,
            "height": null,
            "justify_content": null,
            "justify_items": null,
            "left": null,
            "margin": null,
            "max_height": null,
            "max_width": null,
            "min_height": null,
            "min_width": null,
            "object_fit": null,
            "object_position": null,
            "order": null,
            "overflow": null,
            "overflow_x": null,
            "overflow_y": null,
            "padding": null,
            "right": null,
            "top": null,
            "visibility": null,
            "width": null
          }
        },
        "4159840841ea434d90964a620b1cb24e": {
          "model_module": "@jupyter-widgets/base",
          "model_name": "LayoutModel",
          "model_module_version": "1.2.0",
          "state": {
            "_model_module": "@jupyter-widgets/base",
            "_model_module_version": "1.2.0",
            "_model_name": "LayoutModel",
            "_view_count": null,
            "_view_module": "@jupyter-widgets/base",
            "_view_module_version": "1.2.0",
            "_view_name": "LayoutView",
            "align_content": null,
            "align_items": null,
            "align_self": null,
            "border": null,
            "bottom": null,
            "display": null,
            "flex": null,
            "flex_flow": null,
            "grid_area": null,
            "grid_auto_columns": null,
            "grid_auto_flow": null,
            "grid_auto_rows": null,
            "grid_column": null,
            "grid_gap": null,
            "grid_row": null,
            "grid_template_areas": null,
            "grid_template_columns": null,
            "grid_template_rows": null,
            "height": null,
            "justify_content": null,
            "justify_items": null,
            "left": null,
            "margin": null,
            "max_height": null,
            "max_width": null,
            "min_height": null,
            "min_width": null,
            "object_fit": null,
            "object_position": null,
            "order": null,
            "overflow": null,
            "overflow_x": null,
            "overflow_y": null,
            "padding": null,
            "right": null,
            "top": null,
            "visibility": null,
            "width": null
          }
        },
        "9a10ccb12c75474e86ca40665cdd9fa1": {
          "model_module": "@jupyter-widgets/controls",
          "model_name": "DescriptionStyleModel",
          "model_module_version": "1.5.0",
          "state": {
            "_model_module": "@jupyter-widgets/controls",
            "_model_module_version": "1.5.0",
            "_model_name": "DescriptionStyleModel",
            "_view_count": null,
            "_view_module": "@jupyter-widgets/base",
            "_view_module_version": "1.2.0",
            "_view_name": "StyleView",
            "description_width": ""
          }
        },
        "25d5daa1c6674f7a969463bcd1ced1cb": {
          "model_module": "@jupyter-widgets/base",
          "model_name": "LayoutModel",
          "model_module_version": "1.2.0",
          "state": {
            "_model_module": "@jupyter-widgets/base",
            "_model_module_version": "1.2.0",
            "_model_name": "LayoutModel",
            "_view_count": null,
            "_view_module": "@jupyter-widgets/base",
            "_view_module_version": "1.2.0",
            "_view_name": "LayoutView",
            "align_content": null,
            "align_items": null,
            "align_self": null,
            "border": null,
            "bottom": null,
            "display": null,
            "flex": null,
            "flex_flow": null,
            "grid_area": null,
            "grid_auto_columns": null,
            "grid_auto_flow": null,
            "grid_auto_rows": null,
            "grid_column": null,
            "grid_gap": null,
            "grid_row": null,
            "grid_template_areas": null,
            "grid_template_columns": null,
            "grid_template_rows": null,
            "height": null,
            "justify_content": null,
            "justify_items": null,
            "left": null,
            "margin": null,
            "max_height": null,
            "max_width": null,
            "min_height": null,
            "min_width": null,
            "object_fit": null,
            "object_position": null,
            "order": null,
            "overflow": null,
            "overflow_x": null,
            "overflow_y": null,
            "padding": null,
            "right": null,
            "top": null,
            "visibility": null,
            "width": null
          }
        },
        "e37da367fe7448c98a79214e831a2945": {
          "model_module": "@jupyter-widgets/controls",
          "model_name": "ProgressStyleModel",
          "model_module_version": "1.5.0",
          "state": {
            "_model_module": "@jupyter-widgets/controls",
            "_model_module_version": "1.5.0",
            "_model_name": "ProgressStyleModel",
            "_view_count": null,
            "_view_module": "@jupyter-widgets/base",
            "_view_module_version": "1.2.0",
            "_view_name": "StyleView",
            "bar_color": null,
            "description_width": ""
          }
        },
        "5563268acf374982a9ff7d31f8c0a57f": {
          "model_module": "@jupyter-widgets/controls",
          "model_name": "VBoxModel",
          "model_module_version": "1.5.0",
          "state": {
            "_dom_classes": [],
            "_model_module": "@jupyter-widgets/controls",
            "_model_module_version": "1.5.0",
            "_model_name": "VBoxModel",
            "_view_count": null,
            "_view_module": "@jupyter-widgets/controls",
            "_view_module_version": "1.5.0",
            "_view_name": "VBoxView",
            "box_style": "",
            "children": [
              "IPY_MODEL_f323dc5fc22a44d38e8c351504268fe9",
              "IPY_MODEL_6ade7bc2b083409e888df1cdb3c43364"
            ],
            "layout": "IPY_MODEL_af9a0f7b983a4243b072574041627a46"
          }
        },
        "f323dc5fc22a44d38e8c351504268fe9": {
          "model_module": "@jupyter-widgets/controls",
          "model_name": "LabelModel",
          "model_module_version": "1.5.0",
          "state": {
            "_dom_classes": [],
            "_model_module": "@jupyter-widgets/controls",
            "_model_module_version": "1.5.0",
            "_model_name": "LabelModel",
            "_view_count": null,
            "_view_module": "@jupyter-widgets/controls",
            "_view_module_version": "1.5.0",
            "_view_name": "LabelView",
            "description": "",
            "description_tooltip": null,
            "layout": "IPY_MODEL_e8e623c0b4724f5faa8225c8fce03939",
            "placeholder": "​",
            "style": "IPY_MODEL_32364811fd2547c5902d40c542b3e694",
            "value": "0.013 MB of 0.013 MB uploaded (0.000 MB deduped)\r"
          }
        },
        "6ade7bc2b083409e888df1cdb3c43364": {
          "model_module": "@jupyter-widgets/controls",
          "model_name": "FloatProgressModel",
          "model_module_version": "1.5.0",
          "state": {
            "_dom_classes": [],
            "_model_module": "@jupyter-widgets/controls",
            "_model_module_version": "1.5.0",
            "_model_name": "FloatProgressModel",
            "_view_count": null,
            "_view_module": "@jupyter-widgets/controls",
            "_view_module_version": "1.5.0",
            "_view_name": "ProgressView",
            "bar_style": "",
            "description": "",
            "description_tooltip": null,
            "layout": "IPY_MODEL_a0023909d2ce4a269393cc4d0fa36228",
            "max": 1,
            "min": 0,
            "orientation": "horizontal",
            "style": "IPY_MODEL_a1f53361d37543a8b68cd00594a84cb5",
            "value": 1
          }
        },
        "af9a0f7b983a4243b072574041627a46": {
          "model_module": "@jupyter-widgets/base",
          "model_name": "LayoutModel",
          "model_module_version": "1.2.0",
          "state": {
            "_model_module": "@jupyter-widgets/base",
            "_model_module_version": "1.2.0",
            "_model_name": "LayoutModel",
            "_view_count": null,
            "_view_module": "@jupyter-widgets/base",
            "_view_module_version": "1.2.0",
            "_view_name": "LayoutView",
            "align_content": null,
            "align_items": null,
            "align_self": null,
            "border": null,
            "bottom": null,
            "display": null,
            "flex": null,
            "flex_flow": null,
            "grid_area": null,
            "grid_auto_columns": null,
            "grid_auto_flow": null,
            "grid_auto_rows": null,
            "grid_column": null,
            "grid_gap": null,
            "grid_row": null,
            "grid_template_areas": null,
            "grid_template_columns": null,
            "grid_template_rows": null,
            "height": null,
            "justify_content": null,
            "justify_items": null,
            "left": null,
            "margin": null,
            "max_height": null,
            "max_width": null,
            "min_height": null,
            "min_width": null,
            "object_fit": null,
            "object_position": null,
            "order": null,
            "overflow": null,
            "overflow_x": null,
            "overflow_y": null,
            "padding": null,
            "right": null,
            "top": null,
            "visibility": null,
            "width": null
          }
        },
        "e8e623c0b4724f5faa8225c8fce03939": {
          "model_module": "@jupyter-widgets/base",
          "model_name": "LayoutModel",
          "model_module_version": "1.2.0",
          "state": {
            "_model_module": "@jupyter-widgets/base",
            "_model_module_version": "1.2.0",
            "_model_name": "LayoutModel",
            "_view_count": null,
            "_view_module": "@jupyter-widgets/base",
            "_view_module_version": "1.2.0",
            "_view_name": "LayoutView",
            "align_content": null,
            "align_items": null,
            "align_self": null,
            "border": null,
            "bottom": null,
            "display": null,
            "flex": null,
            "flex_flow": null,
            "grid_area": null,
            "grid_auto_columns": null,
            "grid_auto_flow": null,
            "grid_auto_rows": null,
            "grid_column": null,
            "grid_gap": null,
            "grid_row": null,
            "grid_template_areas": null,
            "grid_template_columns": null,
            "grid_template_rows": null,
            "height": null,
            "justify_content": null,
            "justify_items": null,
            "left": null,
            "margin": null,
            "max_height": null,
            "max_width": null,
            "min_height": null,
            "min_width": null,
            "object_fit": null,
            "object_position": null,
            "order": null,
            "overflow": null,
            "overflow_x": null,
            "overflow_y": null,
            "padding": null,
            "right": null,
            "top": null,
            "visibility": null,
            "width": null
          }
        },
        "32364811fd2547c5902d40c542b3e694": {
          "model_module": "@jupyter-widgets/controls",
          "model_name": "DescriptionStyleModel",
          "model_module_version": "1.5.0",
          "state": {
            "_model_module": "@jupyter-widgets/controls",
            "_model_module_version": "1.5.0",
            "_model_name": "DescriptionStyleModel",
            "_view_count": null,
            "_view_module": "@jupyter-widgets/base",
            "_view_module_version": "1.2.0",
            "_view_name": "StyleView",
            "description_width": ""
          }
        },
        "a0023909d2ce4a269393cc4d0fa36228": {
          "model_module": "@jupyter-widgets/base",
          "model_name": "LayoutModel",
          "model_module_version": "1.2.0",
          "state": {
            "_model_module": "@jupyter-widgets/base",
            "_model_module_version": "1.2.0",
            "_model_name": "LayoutModel",
            "_view_count": null,
            "_view_module": "@jupyter-widgets/base",
            "_view_module_version": "1.2.0",
            "_view_name": "LayoutView",
            "align_content": null,
            "align_items": null,
            "align_self": null,
            "border": null,
            "bottom": null,
            "display": null,
            "flex": null,
            "flex_flow": null,
            "grid_area": null,
            "grid_auto_columns": null,
            "grid_auto_flow": null,
            "grid_auto_rows": null,
            "grid_column": null,
            "grid_gap": null,
            "grid_row": null,
            "grid_template_areas": null,
            "grid_template_columns": null,
            "grid_template_rows": null,
            "height": null,
            "justify_content": null,
            "justify_items": null,
            "left": null,
            "margin": null,
            "max_height": null,
            "max_width": null,
            "min_height": null,
            "min_width": null,
            "object_fit": null,
            "object_position": null,
            "order": null,
            "overflow": null,
            "overflow_x": null,
            "overflow_y": null,
            "padding": null,
            "right": null,
            "top": null,
            "visibility": null,
            "width": null
          }
        },
        "a1f53361d37543a8b68cd00594a84cb5": {
          "model_module": "@jupyter-widgets/controls",
          "model_name": "ProgressStyleModel",
          "model_module_version": "1.5.0",
          "state": {
            "_model_module": "@jupyter-widgets/controls",
            "_model_module_version": "1.5.0",
            "_model_name": "ProgressStyleModel",
            "_view_count": null,
            "_view_module": "@jupyter-widgets/base",
            "_view_module_version": "1.2.0",
            "_view_name": "StyleView",
            "bar_color": null,
            "description_width": ""
          }
        }
      }
    }
  },
  "cells": [
    {
      "cell_type": "markdown",
      "source": [
        "# Using Weights and Biases (https://wandb.ai/site) to perform a hyperparameter sweep\n",
        "\n",
        "\n",
        "\n",
        "1.   Set the configuration for the sweep\n",
        "2.   Modify the training loop to give wandb control over the hyperparameters\n",
        "3.   Assign an id to the sweep for tracking and logging\n",
        "\n"
      ],
      "metadata": {
        "id": "krbWnERqvW0e"
      }
    },
    {
      "cell_type": "code",
      "source": [
        "IN_COLAB = 'google.colab' in str(get_ipython())\n",
        "\n",
        "if IN_COLAB:\n",
        "    from google.colab import drive\n",
        "    drive.mount('/content/drive', force_remount=True)\n",
        "    %cd /content/drive/MyDrive/Documents/HLML/Mitchell_Object_Detection/CellDetection/"
      ],
      "metadata": {
        "colab": {
          "base_uri": "https://localhost:8080/"
        },
        "id": "Vlz6rBGXilwu",
        "outputId": "2437d0d1-a6a8-48ce-fea4-04edf93f6ae0"
      },
      "execution_count": null,
      "outputs": [
        {
          "output_type": "stream",
          "name": "stdout",
          "text": [
            "Mounted at /content/drive\n",
            "/content/drive/MyDrive/Documents/HLML/Mitchell_Object_Detection/CellDetection\n"
          ]
        }
      ]
    },
    {
      "cell_type": "code",
      "source": [
        "import os\n",
        "import torch\n",
        "import torch.nn as nn\n",
        "import torch.nn.functional as F\n",
        "from torch import optim\n",
        "from torch.utils.data import Dataset, DataLoader, random_split\n",
        "import torchvision.transforms.functional as TF\n",
        "import numpy as np\n",
        "import matplotlib.pyplot as plt\n",
        "from unet import UNet\n",
        "\n",
        "%matplotlib inline"
      ],
      "metadata": {
        "id": "ejJDDEMmcXxX"
      },
      "execution_count": null,
      "outputs": []
    },
    {
      "cell_type": "code",
      "source": [
        "device = torch.device(\"cuda\" if torch.cuda.is_available() else \"cpu\")"
      ],
      "metadata": {
        "id": "KB6yMMfyfMi7"
      },
      "execution_count": null,
      "outputs": []
    },
    {
      "cell_type": "code",
      "execution_count": null,
      "metadata": {
        "id": "Wp90qpfkcQOF",
        "colab": {
          "base_uri": "https://localhost:8080/"
        },
        "outputId": "26b42396-9988-475c-f966-cc3e4b3727f5"
      },
      "outputs": [
        {
          "output_type": "stream",
          "name": "stdout",
          "text": [
            "\u001b[K     |████████████████████████████████| 1.8 MB 5.2 MB/s \n",
            "\u001b[K     |████████████████████████████████| 181 kB 73.5 MB/s \n",
            "\u001b[K     |████████████████████████████████| 162 kB 70.6 MB/s \n",
            "\u001b[K     |████████████████████████████████| 63 kB 1.8 MB/s \n",
            "\u001b[K     |████████████████████████████████| 158 kB 73.7 MB/s \n",
            "\u001b[K     |████████████████████████████████| 157 kB 73.7 MB/s \n",
            "\u001b[K     |████████████████████████████████| 157 kB 78.5 MB/s \n",
            "\u001b[K     |████████████████████████████████| 157 kB 75.6 MB/s \n",
            "\u001b[K     |████████████████████████████████| 157 kB 59.1 MB/s \n",
            "\u001b[K     |████████████████████████████████| 157 kB 73.2 MB/s \n",
            "\u001b[K     |████████████████████████████████| 157 kB 78.1 MB/s \n",
            "\u001b[K     |████████████████████████████████| 157 kB 79.9 MB/s \n",
            "\u001b[K     |████████████████████████████████| 156 kB 61.4 MB/s \n",
            "\u001b[?25h  Building wheel for pathtools (setup.py) ... \u001b[?25l\u001b[?25hdone\n"
          ]
        }
      ],
      "source": [
        "!pip install wandb -Uq"
      ]
    },
    {
      "cell_type": "code",
      "source": [
        "import wandb\n",
        "\n",
        "wandb.login()"
      ],
      "metadata": {
        "colab": {
          "base_uri": "https://localhost:8080/",
          "height": 89
        },
        "id": "YCczBXFadIEY",
        "outputId": "83bf5cef-4977-4ed5-9f48-3eff80f50dbf"
      },
      "execution_count": null,
      "outputs": [
        {
          "output_type": "stream",
          "name": "stderr",
          "text": [
            "ERROR:wandb.jupyter:Failed to detect the name of this notebook, you can set it manually with the WANDB_NOTEBOOK_NAME environment variable to enable code saving.\n"
          ]
        },
        {
          "output_type": "display_data",
          "data": {
            "text/plain": [
              "<IPython.core.display.Javascript object>"
            ],
            "application/javascript": [
              "\n",
              "        window._wandbApiKey = new Promise((resolve, reject) => {\n",
              "            function loadScript(url) {\n",
              "            return new Promise(function(resolve, reject) {\n",
              "                let newScript = document.createElement(\"script\");\n",
              "                newScript.onerror = reject;\n",
              "                newScript.onload = resolve;\n",
              "                document.body.appendChild(newScript);\n",
              "                newScript.src = url;\n",
              "            });\n",
              "            }\n",
              "            loadScript(\"https://cdn.jsdelivr.net/npm/postmate/build/postmate.min.js\").then(() => {\n",
              "            const iframe = document.createElement('iframe')\n",
              "            iframe.style.cssText = \"width:0;height:0;border:none\"\n",
              "            document.body.appendChild(iframe)\n",
              "            const handshake = new Postmate({\n",
              "                container: iframe,\n",
              "                url: 'https://wandb.ai/authorize'\n",
              "            });\n",
              "            const timeout = setTimeout(() => reject(\"Couldn't auto authenticate\"), 5000)\n",
              "            handshake.then(function(child) {\n",
              "                child.on('authorize', data => {\n",
              "                    clearTimeout(timeout)\n",
              "                    resolve(data)\n",
              "                });\n",
              "            });\n",
              "            })\n",
              "        });\n",
              "    "
            ]
          },
          "metadata": {}
        },
        {
          "output_type": "stream",
          "name": "stderr",
          "text": [
            "\u001b[34m\u001b[1mwandb\u001b[0m: Appending key for api.wandb.ai to your netrc file: /root/.netrc\n"
          ]
        },
        {
          "output_type": "execute_result",
          "data": {
            "text/plain": [
              "True"
            ]
          },
          "metadata": {},
          "execution_count": 8
        }
      ]
    },
    {
      "cell_type": "code",
      "source": [
        "sweep_config = {\n",
        "  'method': 'random', \n",
        "  'metric': {\n",
        "      'name': 'val_loss',\n",
        "      'goal': 'minimize'\n",
        "  },\n",
        "  'parameters': {\n",
        "      'batch_size': {\n",
        "          'values': [1]\n",
        "      },\n",
        "      'learning_rate':{\n",
        "          'values': [0.0005]\n",
        "      },\n",
        "      'weight_decay':{\n",
        "          'values': [1e-7, 1e-8, 1e-9]\n",
        "      },\n",
        "      'momentum':{\n",
        "          'values': [0.1, 0.9, 5]\n",
        "      },\n",
        "      'epochs': {\n",
        "        'values': [50]\n",
        "      }\n",
        "  }\n",
        "}\n"
      ],
      "metadata": {
        "id": "-BquJhGRjyqm"
      },
      "execution_count": null,
      "outputs": []
    },
    {
      "cell_type": "code",
      "source": [
        "import pprint\n",
        "\n",
        "pprint.pprint(sweep_config)"
      ],
      "metadata": {
        "colab": {
          "base_uri": "https://localhost:8080/"
        },
        "id": "0dwtgJM02V13",
        "outputId": "f173074b-b6f7-4caf-dff9-b212692f19ea"
      },
      "execution_count": null,
      "outputs": [
        {
          "output_type": "stream",
          "name": "stdout",
          "text": [
            "{'method': 'random',\n",
            " 'metric': {'goal': 'minimize', 'name': 'val_loss'},\n",
            " 'parameters': {'batch_size': {'values': [1]},\n",
            "                'epochs': {'values': [50]},\n",
            "                'learning_rate': {'values': [0.0005]},\n",
            "                'momentum': {'values': [0.1, 0.9, 5]},\n",
            "                'weight_decay': {'values': [1e-07, 1e-08, 1e-09]}}}\n"
          ]
        }
      ]
    },
    {
      "cell_type": "code",
      "source": [
        "def train_wandb(config=None):\n",
        "  # Initialize a new wandb run\n",
        "  with wandb.init(config=config):\n",
        "    # If called by wandb.agent, as below,\n",
        "    # this config will be set by Sweep Controller\n",
        "    config = wandb.config\n",
        "\n",
        "    no_trainng_samples = int(0.8*len(dataset.samples))\n",
        "    no_val_samples = len(dataset.samples) - no_trainng_samples\n",
        "\n",
        "    trainset, valset = random_split(dataset, [no_trainng_samples, no_val_samples])\n",
        "\n",
        "    train_loader = DataLoader(trainset, batch_size=config.batch_size, shuffle=True)\n",
        "    val_loader = DataLoader(valset, batch_size=config.batch_size, shuffle=True)\n",
        "\n",
        "    model = UNet(1, 4)\n",
        "    model.to(device)\n",
        "    optimizer = optim.RMSprop(model.parameters(), config.learning_rate, config.weight_decay, config.momentum)\n",
        "\n",
        "    criterion = nn.CrossEntropyLoss()\n",
        "\n",
        "    for e in range(1, config.epochs+1):\n",
        "\n",
        "      total_train_loss = 0\n",
        "      total_val_loss = 0\n",
        "\n",
        "      for i, batch in enumerate(train_loader):\n",
        "\n",
        "        optimizer.zero_grad()\n",
        "\n",
        "        output = model(batch['image'].to(device))\n",
        "        loss = criterion(output, batch['mask'].to(device))\n",
        "\n",
        "        wandb.log({\"loss\": loss.item(), \"epoch\": e})\n",
        "\n",
        "        loss.backward()\n",
        "        optimizer.step()\n",
        "\n",
        "        total_train_loss += loss.item()/len(train_loader)\n",
        "\n",
        "      print(\"Total training loss: \", total_train_loss/(i+1))\n",
        "\n",
        "      if e == 30:\n",
        "        torch.save(model.state_dict(), \"models/low_contrast_expanded_dataset_sweep/30_epochs_lr_{0}_m_{1}.pt\".format(config.learning_rate, config.momentum))\n",
        "\n",
        "\n",
        "      with torch.no_grad(): \n",
        "\n",
        "        for i, batch in enumerate(val_loader):\n",
        "\n",
        "          output = model(batch['image'].to(device))\n",
        "          val_loss = criterion(output, batch['mask'].to(device))\n",
        "\n",
        "          wandb.log({\"val_loss\": val_loss.item(), \"epoch\": e})\n",
        "\n",
        "          total_val_loss += val_loss.item()/len(val_loader)\n",
        "\n",
        "        print(\"Total validation loss: \", total_val_loss/(i+1))\n",
        "\n",
        "    torch.save(model.state_dict(), \"models/low_contrast_expanded_dataset_sweep/50_epochs_lr_{0}_m_{1}.pt\".format(config.learning_rate, config.momentum))\n"
      ],
      "metadata": {
        "id": "ECHeBpHffIel"
      },
      "execution_count": null,
      "outputs": []
    },
    {
      "cell_type": "code",
      "source": [
        "sweep_id = wandb.sweep(sweep_config, project=\"UNet-cell-detection\")"
      ],
      "metadata": {
        "colab": {
          "base_uri": "https://localhost:8080/"
        },
        "id": "f-nNblZdl6ix",
        "outputId": "1932a83d-d16c-4fd0-da19-6e0f6eda7019"
      },
      "execution_count": null,
      "outputs": [
        {
          "output_type": "stream",
          "name": "stdout",
          "text": [
            "Create sweep with ID: 5fgfl1u1\n",
            "Sweep URL: https://wandb.ai/tz545/UNet-cell-detection/sweeps/5fgfl1u1\n"
          ]
        }
      ]
    },
    {
      "cell_type": "markdown",
      "source": [
        "Import dataset and run wandb sweep agent:"
      ],
      "metadata": {
        "id": "R3b5ZsS8wKKG"
      }
    },
    {
      "cell_type": "code",
      "source": [
        "from train_unet import CellsDataset"
      ],
      "metadata": {
        "id": "Hz71T0PbetcO"
      },
      "execution_count": null,
      "outputs": []
    },
    {
      "cell_type": "code",
      "source": [
        "dataset = CellsDataset('data')"
      ],
      "metadata": {
        "id": "wfZeKeH2hqOK"
      },
      "execution_count": null,
      "outputs": []
    },
    {
      "cell_type": "code",
      "source": [
        "wandb.agent(sweep_id, train_wandb, count=5) "
      ],
      "metadata": {
        "colab": {
          "base_uri": "https://localhost:8080/",
          "height": 1000,
          "referenced_widgets": [
            "1f2537b813864c9289ef86c4ef279096",
            "fd8bbc14e1be41d3bbd12747c14bdda9",
            "4cbcdcf607ec4816b1873558bb26c6e4",
            "f75f7bb8b0ed444984217741f31c81c2",
            "3e537ef9219e419daa98422782e299d2",
            "ad9ac843dfae48f8b3a4264ba6f50472",
            "cef6c32abe384458a540dff99426038d",
            "d3142f2739f64bbaae292debf5d88e86",
            "2e0f86d10e124672b92b6c85726c7f99",
            "546a9d72cfc24dd6a983435f5d4c7c11",
            "0e48b5e73f204a6ebcdf7ca8dd12af7d",
            "cced61430050437fb7badde7966ef9f0",
            "2ce485a904bd4c8ab62f3642e5c03a04",
            "f94f5c1207764b6cbd96f573a4f0ca48",
            "fda9c21119594b0999d61bce34383735",
            "88293df1234949f29ce140acd0b72dff",
            "48eacb35a2d14ca48fd76225b249537e",
            "0ca3da1c22514a55b51f2ffd878a2ba4",
            "b91eeefb5b5341fe9cbe1d35534d94a1",
            "9c228ebf54e94a8882bacf6695ec78ec",
            "9f72f53389844e9099a810a0c2141f64",
            "099633e87dd44fc69857c180f0fcc82e",
            "1cd52fcc51fd4c69a85f3c572394c9ef",
            "8cca75eb5fa74fa4b7f07d6f0febca2c",
            "1e6fd52cb8984cf8a357957056473d93",
            "5735e22f53584a34a626277a839d6cb6",
            "aa4989c3ce7f40a18fa800a31d399e92",
            "6c3c0da6232f49a5852e1862559db764",
            "4159840841ea434d90964a620b1cb24e",
            "9a10ccb12c75474e86ca40665cdd9fa1",
            "25d5daa1c6674f7a969463bcd1ced1cb",
            "e37da367fe7448c98a79214e831a2945",
            "5563268acf374982a9ff7d31f8c0a57f",
            "f323dc5fc22a44d38e8c351504268fe9",
            "6ade7bc2b083409e888df1cdb3c43364",
            "af9a0f7b983a4243b072574041627a46",
            "e8e623c0b4724f5faa8225c8fce03939",
            "32364811fd2547c5902d40c542b3e694",
            "a0023909d2ce4a269393cc4d0fa36228",
            "a1f53361d37543a8b68cd00594a84cb5"
          ]
        },
        "id": "mp45WpYtBcCU",
        "outputId": "c0265045-8722-4828-f9e0-23f418d01adf"
      },
      "execution_count": null,
      "outputs": [
        {
          "output_type": "stream",
          "name": "stderr",
          "text": [
            "\u001b[34m\u001b[1mwandb\u001b[0m: Agent Starting Run: 5pi2pcke with config:\n",
            "\u001b[34m\u001b[1mwandb\u001b[0m: \tbatch_size: 1\n",
            "\u001b[34m\u001b[1mwandb\u001b[0m: \tepochs: 50\n",
            "\u001b[34m\u001b[1mwandb\u001b[0m: \tlearning_rate: 0.0005\n",
            "\u001b[34m\u001b[1mwandb\u001b[0m: \tmomentum: 0.9\n",
            "\u001b[34m\u001b[1mwandb\u001b[0m: \tweight_decay: 1e-07\n",
            "Failed to detect the name of this notebook, you can set it manually with the WANDB_NOTEBOOK_NAME environment variable to enable code saving.\n"
          ]
        },
        {
          "output_type": "display_data",
          "data": {
            "text/plain": [
              "<IPython.core.display.HTML object>"
            ],
            "text/html": [
              "Tracking run with wandb version 0.13.3"
            ]
          },
          "metadata": {}
        },
        {
          "output_type": "display_data",
          "data": {
            "text/plain": [
              "<IPython.core.display.HTML object>"
            ],
            "text/html": [
              "Run data is saved locally in <code>/content/drive/MyDrive/Documents/HLML/Mitchell_Object_Detection/CellDetection/wandb/run-20221003_092244-5pi2pcke</code>"
            ]
          },
          "metadata": {}
        },
        {
          "output_type": "display_data",
          "data": {
            "text/plain": [
              "<IPython.core.display.HTML object>"
            ],
            "text/html": [
              "Syncing run <strong><a href=\"https://wandb.ai/tz545/UNet-cell-detection/runs/5pi2pcke\" target=\"_blank\">vocal-sweep-1</a></strong> to <a href=\"https://wandb.ai/tz545/UNet-cell-detection\" target=\"_blank\">Weights & Biases</a> (<a href=\"https://wandb.me/run\" target=\"_blank\">docs</a>)<br/>Sweep page:  <a href=\"https://wandb.ai/tz545/UNet-cell-detection/sweeps/5fgfl1u1\" target=\"_blank\">https://wandb.ai/tz545/UNet-cell-detection/sweeps/5fgfl1u1</a>"
            ]
          },
          "metadata": {}
        },
        {
          "output_type": "stream",
          "name": "stdout",
          "text": [
            "Total training loss:  0.008648531838844065\n",
            "Total validation loss:  0.029304596362635493\n",
            "Total training loss:  0.006533223695441848\n",
            "Total validation loss:  0.02341029403032735\n",
            "Total training loss:  0.005339343821106013\n",
            "Total validation loss:  0.01955563883529976\n",
            "Total training loss:  0.004518102057772921\n",
            "Total validation loss:  0.01680403936188668\n",
            "Total training loss:  0.003919451035471866\n",
            "Total validation loss:  0.014774132578168064\n",
            "Total training loss:  0.003471610467386199\n",
            "Total validation loss:  0.013236821570899338\n",
            "Total training loss:  0.0031287348374462454\n",
            "Total validation loss:  0.01204864151077345\n",
            "Total training loss:  0.0028601277463167207\n",
            "Total validation loss:  0.01110481534851715\n",
            "Total training loss:  0.002645267464686185\n",
            "Total validation loss:  0.010346524970373139\n",
            "Total training loss:  0.0024707392185518984\n",
            "Total validation loss:  0.009717854438349605\n",
            "Total training loss:  0.0023257180546352174\n",
            "Total validation loss:  0.00919241298106499\n",
            "Total training loss:  0.002203260391979711\n",
            "Total validation loss:  0.008739657059777528\n",
            "Total training loss:  0.002098421784467064\n",
            "Total validation loss:  0.00835072727932129\n",
            "Total training loss:  0.0020068164776603226\n",
            "Total validation loss:  0.008004157949471846\n",
            "Total training loss:  0.0019266968556621578\n",
            "Total validation loss:  0.007704323885263875\n",
            "Total training loss:  0.001854976990216528\n",
            "Total validation loss:  0.007429528457578272\n",
            "Total training loss:  0.0017904695914694457\n",
            "Total validation loss:  0.007186891190940514\n",
            "Total training loss:  0.0017329741258436115\n",
            "Total validation loss:  0.006960416285437532\n",
            "Total training loss:  0.0016808981254143873\n",
            "Total validation loss:  0.00675953361496795\n",
            "Total training loss:  0.001633460865377856\n",
            "Total validation loss:  0.0065753592643886805\n",
            "Total training loss:  0.001590332372870762\n",
            "Total validation loss:  0.006408316534361802\n",
            "Total training loss:  0.0015510054354308522\n",
            "Total validation loss:  0.006253674771869555\n",
            "Total training loss:  0.001514758445409825\n",
            "Total validation loss:  0.006117245007771999\n",
            "Total training loss:  0.0014814944051977363\n",
            "Total validation loss:  0.005986430216580629\n",
            "Total training loss:  0.0014507249579764903\n",
            "Total validation loss:  0.00586023714276962\n",
            "Total training loss:  0.0014220470930013107\n",
            "Total validation loss:  0.005750818178057671\n",
            "Total training loss:  0.0013952123508715886\n",
            "Total validation loss:  0.005647021986078471\n",
            "Total training loss:  0.0013705817837035283\n",
            "Total validation loss:  0.0055583122302778065\n",
            "Total training loss:  0.0013475129471771652\n",
            "Total validation loss:  0.005455496095237322\n",
            "Total training loss:  0.0013253812767288764\n",
            "Total validation loss:  0.005373122621676885\n",
            "Total training loss:  0.0013050729603492073\n",
            "Total validation loss:  0.005289279608405195\n",
            "Total training loss:  0.0012855889626735006\n",
            "Total validation loss:  0.00521074264543131\n",
            "Total training loss:  0.001267358383302053\n",
            "Total validation loss:  0.005143847200088203\n",
            "Total training loss:  0.0012500598795668338\n",
            "Total validation loss:  0.005071061343187466\n",
            "Total training loss:  0.0012336103682173416\n",
            "Total validation loss:  0.005022939672926441\n",
            "Total training loss:  0.0012185919676994672\n",
            "Total validation loss:  0.004949404814396985\n",
            "Total training loss:  0.0012036462057949393\n",
            "Total validation loss:  0.00488639876130037\n",
            "Total training loss:  0.0011897759522980778\n",
            "Total validation loss:  0.004832063117646612\n",
            "Total training loss:  0.0011764062674046727\n",
            "Total validation loss:  0.004778357251780108\n",
            "Total training loss:  0.0011636252183961915\n",
            "Total validation loss:  0.004728872008854523\n",
            "Total training loss:  0.001151423205556057\n",
            "Total validation loss:  0.004678962359321304\n",
            "Total training loss:  0.0011395796773285838\n",
            "Total validation loss:  0.004648198577342555\n",
            "Total training loss:  0.0011285447008049232\n",
            "Total validation loss:  0.0045970043720444664\n",
            "Total training loss:  0.001117794935908023\n",
            "Total validation loss:  0.004549458673864137\n",
            "Total training loss:  0.0011074440390075324\n",
            "Total validation loss:  0.004505384131334722\n",
            "Total training loss:  0.001097663724067388\n",
            "Total validation loss:  0.00446711133554345\n",
            "Total training loss:  0.001088078025077266\n",
            "Total validation loss:  0.004431874425790738\n",
            "Total training loss:  0.0010788354275064194\n",
            "Total validation loss:  0.004390493915707339\n",
            "Total training loss:  0.001070012715899793\n",
            "Total validation loss:  0.004355696648417506\n",
            "Total training loss:  0.0010614345560497895\n",
            "Total validation loss:  0.004333212295023259\n"
          ]
        },
        {
          "output_type": "display_data",
          "data": {
            "text/plain": [
              "<IPython.core.display.HTML object>"
            ],
            "text/html": [
              "Waiting for W&B process to finish... <strong style=\"color:green\">(success).</strong>"
            ]
          },
          "metadata": {}
        },
        {
          "output_type": "display_data",
          "data": {
            "text/plain": [
              "VBox(children=(Label(value='0.001 MB of 0.001 MB uploaded (0.000 MB deduped)\\r'), FloatProgress(value=1.0, max…"
            ],
            "application/vnd.jupyter.widget-view+json": {
              "version_major": 2,
              "version_minor": 0,
              "model_id": "1f2537b813864c9289ef86c4ef279096"
            }
          },
          "metadata": {}
        },
        {
          "output_type": "display_data",
          "data": {
            "text/plain": [
              "<IPython.core.display.HTML object>"
            ],
            "text/html": [
              "<style>\n",
              "    table.wandb td:nth-child(1) { padding: 0 10px; text-align: left ; width: auto;} td:nth-child(2) {text-align: left ; width: 100%}\n",
              "    .wandb-row { display: flex; flex-direction: row; flex-wrap: wrap; justify-content: flex-start; width: 100% }\n",
              "    .wandb-col { display: flex; flex-direction: column; flex-basis: 100%; flex: 1; padding: 10px; }\n",
              "    </style>\n",
              "<div class=\"wandb-row\"><div class=\"wandb-col\"><h3>Run history:</h3><br/><table class=\"wandb\"><tr><td>epoch</td><td>▁▁▁▁▂▂▂▂▂▃▃▃▃▃▃▄▄▄▄▄▅▅▅▅▅▅▆▆▆▆▆▇▇▇▇▇▇███</td></tr><tr><td>loss</td><td>█▆▅▄▃▃▃▃▂▂▂▂▂▂▂▂▁▂▂▂▁▁▁▁▁▁▁▁▁▁▁▁▁▁▁▁▁▁▁▁</td></tr><tr><td>val_loss</td><td>█▆▅▅▄▃▃▃▃▂▂▂▂▂▂▂▂▂▂▂▂▂▂▁▁▁▁▂▁▁▁▂▁▁▁▁▁▁▁▁</td></tr></table><br/></div><div class=\"wandb-col\"><h3>Run summary:</h3><br/><table class=\"wandb\"><tr><td>epoch</td><td>50</td></tr><tr><td>loss</td><td>0.13212</td></tr><tr><td>val_loss</td><td>0.11259</td></tr></table><br/></div></div>"
            ]
          },
          "metadata": {}
        },
        {
          "output_type": "display_data",
          "data": {
            "text/plain": [
              "<IPython.core.display.HTML object>"
            ],
            "text/html": [
              "Synced <strong style=\"color:#cdcd00\">vocal-sweep-1</strong>: <a href=\"https://wandb.ai/tz545/UNet-cell-detection/runs/5pi2pcke\" target=\"_blank\">https://wandb.ai/tz545/UNet-cell-detection/runs/5pi2pcke</a><br/>Synced 5 W&B file(s), 0 media file(s), 0 artifact file(s) and 0 other file(s)"
            ]
          },
          "metadata": {}
        },
        {
          "output_type": "display_data",
          "data": {
            "text/plain": [
              "<IPython.core.display.HTML object>"
            ],
            "text/html": [
              "Find logs at: <code>./wandb/run-20221003_092244-5pi2pcke/logs</code>"
            ]
          },
          "metadata": {}
        },
        {
          "output_type": "stream",
          "name": "stderr",
          "text": [
            "\u001b[34m\u001b[1mwandb\u001b[0m: Agent Starting Run: zl2u12xs with config:\n",
            "\u001b[34m\u001b[1mwandb\u001b[0m: \tbatch_size: 1\n",
            "\u001b[34m\u001b[1mwandb\u001b[0m: \tepochs: 50\n",
            "\u001b[34m\u001b[1mwandb\u001b[0m: \tlearning_rate: 0.0005\n",
            "\u001b[34m\u001b[1mwandb\u001b[0m: \tmomentum: 0.1\n",
            "\u001b[34m\u001b[1mwandb\u001b[0m: \tweight_decay: 1e-09\n",
            "Failed to detect the name of this notebook, you can set it manually with the WANDB_NOTEBOOK_NAME environment variable to enable code saving.\n"
          ]
        },
        {
          "output_type": "display_data",
          "data": {
            "text/plain": [
              "<IPython.core.display.HTML object>"
            ],
            "text/html": [
              "Tracking run with wandb version 0.13.3"
            ]
          },
          "metadata": {}
        },
        {
          "output_type": "display_data",
          "data": {
            "text/plain": [
              "<IPython.core.display.HTML object>"
            ],
            "text/html": [
              "Run data is saved locally in <code>/content/drive/MyDrive/Documents/HLML/Mitchell_Object_Detection/CellDetection/wandb/run-20221003_100954-zl2u12xs</code>"
            ]
          },
          "metadata": {}
        },
        {
          "output_type": "display_data",
          "data": {
            "text/plain": [
              "<IPython.core.display.HTML object>"
            ],
            "text/html": [
              "Syncing run <strong><a href=\"https://wandb.ai/tz545/UNet-cell-detection/runs/zl2u12xs\" target=\"_blank\">proud-sweep-2</a></strong> to <a href=\"https://wandb.ai/tz545/UNet-cell-detection\" target=\"_blank\">Weights & Biases</a> (<a href=\"https://wandb.me/run\" target=\"_blank\">docs</a>)<br/>Sweep page:  <a href=\"https://wandb.ai/tz545/UNet-cell-detection/sweeps/5fgfl1u1\" target=\"_blank\">https://wandb.ai/tz545/UNet-cell-detection/sweeps/5fgfl1u1</a>"
            ]
          },
          "metadata": {}
        },
        {
          "output_type": "stream",
          "name": "stdout",
          "text": [
            "Total training loss:  0.00647873483467265\n",
            "Total validation loss:  0.016482922772411257\n",
            "Total training loss:  0.003105862031588913\n",
            "Total validation loss:  0.009401741379406303\n",
            "Total training loss:  0.0019613265749285347\n",
            "Total validation loss:  0.00672149594174698\n",
            "Total training loss:  0.001531919061562803\n",
            "Total validation loss:  0.005561369544011541\n",
            "Total training loss:  0.0013196196860008058\n",
            "Total validation loss:  0.004963909581420012\n",
            "Total training loss:  0.0011904508419320337\n",
            "Total validation loss:  0.004450162945431657\n",
            "Total training loss:  0.0011022291091649095\n",
            "Total validation loss:  0.004169783525867388\n",
            "Total training loss:  0.0010394196501692932\n",
            "Total validation loss:  0.00395146702794591\n",
            "Total training loss:  0.0009877427423816698\n",
            "Total validation loss:  0.0038636543540633284\n",
            "Total training loss:  0.0009466216406508465\n",
            "Total validation loss:  0.0036321166189736687\n",
            "Total training loss:  0.0009140617498815118\n",
            "Total validation loss:  0.0035317746151122265\n",
            "Total training loss:  0.0008846292571433878\n",
            "Total validation loss:  0.0034453457046765834\n",
            "Total training loss:  0.0008625547156952962\n",
            "Total validation loss:  0.0033652374186203815\n",
            "Total training loss:  0.000842663862840709\n",
            "Total validation loss:  0.0032875996257644147\n",
            "Total training loss:  0.000827053394914401\n",
            "Total validation loss:  0.003231345945096109\n",
            "Total training loss:  0.0008138999451148266\n",
            "Total validation loss:  0.0032970643587759696\n",
            "Total training loss:  0.0008041235041673644\n",
            "Total validation loss:  0.003150503725919407\n",
            "Total training loss:  0.0007945752386149252\n",
            "Total validation loss:  0.0031033790728542954\n",
            "Total training loss:  0.0007857358968976769\n",
            "Total validation loss:  0.0030737098059034906\n",
            "Total training loss:  0.0007772827148073702\n",
            "Total validation loss:  0.0030489977725665085\n",
            "Total training loss:  0.0007690580196140218\n",
            "Total validation loss:  0.0030339023578562774\n",
            "Total training loss:  0.0007635733463757788\n",
            "Total validation loss:  0.0030221583219827153\n",
            "Total training loss:  0.0007602888526889728\n",
            "Total validation loss:  0.0029795395021210425\n",
            "Total training loss:  0.0007528021878897562\n",
            "Total validation loss:  0.0029655302641913295\n",
            "Total training loss:  0.0007490982129638724\n",
            "Total validation loss:  0.0029535997382481582\n",
            "Total training loss:  0.000745282132356806\n",
            "Total validation loss:  0.002927452602307312\n",
            "Total training loss:  0.0007408208089145774\n",
            "Total validation loss:  0.00290658410085598\n",
            "Total training loss:  0.0007377438550975057\n",
            "Total validation loss:  0.002925187480286695\n",
            "Total training loss:  0.0007330721246034955\n",
            "Total validation loss:  0.0028835907723987475\n",
            "Total training loss:  0.000729229177977686\n",
            "Total validation loss:  0.0028722041097353213\n",
            "Total training loss:  0.0007250744704379031\n",
            "Total validation loss:  0.002870976022677496\n",
            "Total training loss:  0.0007234612448883126\n",
            "Total validation loss:  0.002862681729311589\n",
            "Total training loss:  0.0007213714247882308\n",
            "Total validation loss:  0.002844607712177094\n",
            "Total training loss:  0.0007180984302976867\n",
            "Total validation loss:  0.002832830050465418\n",
            "Total training loss:  0.0007153285009735555\n",
            "Total validation loss:  0.0028205898306623567\n",
            "Total training loss:  0.0007132675373213715\n",
            "Total validation loss:  0.002843667665729299\n",
            "Total training loss:  0.0007108687955224013\n",
            "Total validation loss:  0.0028032067384629045\n",
            "Total training loss:  0.0007085933102644049\n",
            "Total validation loss:  0.0027935952821280807\n",
            "Total training loss:  0.0007052737071262527\n",
            "Total validation loss:  0.002794108830130426\n",
            "Total training loss:  0.0007038116957573948\n",
            "Total validation loss:  0.0027948346178163774\n",
            "Total training loss:  0.0007010526996964472\n",
            "Total validation loss:  0.0027678685110004153\n",
            "Total training loss:  0.0007003827201970125\n",
            "Total validation loss:  0.0027710568174370565\n",
            "Total training loss:  0.0006978638218697597\n",
            "Total validation loss:  0.0027701271828846075\n",
            "Total training loss:  0.0006963313298911089\n",
            "Total validation loss:  0.002768130478216335\n",
            "Total training loss:  0.0006949835180876107\n",
            "Total validation loss:  0.002745489066001028\n",
            "Total training loss:  0.0006927631300186476\n",
            "Total validation loss:  0.002740166586590931\n",
            "Total training loss:  0.0006908787272550398\n",
            "Total validation loss:  0.0027400372237025294\n",
            "Total training loss:  0.0006908425466463086\n",
            "Total validation loss:  0.0027298278801026754\n",
            "Total training loss:  0.0006882479717660317\n",
            "Total validation loss:  0.002739292936894344\n",
            "Total training loss:  0.0006874293662804121\n",
            "Total validation loss:  0.0027381110485293902\n"
          ]
        },
        {
          "output_type": "display_data",
          "data": {
            "text/plain": [
              "<IPython.core.display.HTML object>"
            ],
            "text/html": [
              "Waiting for W&B process to finish... <strong style=\"color:green\">(success).</strong>"
            ]
          },
          "metadata": {}
        },
        {
          "output_type": "display_data",
          "data": {
            "text/plain": [
              "VBox(children=(Label(value='0.001 MB of 0.001 MB uploaded (0.000 MB deduped)\\r'), FloatProgress(value=1.0, max…"
            ],
            "application/vnd.jupyter.widget-view+json": {
              "version_major": 2,
              "version_minor": 0,
              "model_id": "2e0f86d10e124672b92b6c85726c7f99"
            }
          },
          "metadata": {}
        },
        {
          "output_type": "display_data",
          "data": {
            "text/plain": [
              "<IPython.core.display.HTML object>"
            ],
            "text/html": [
              "<style>\n",
              "    table.wandb td:nth-child(1) { padding: 0 10px; text-align: left ; width: auto;} td:nth-child(2) {text-align: left ; width: 100%}\n",
              "    .wandb-row { display: flex; flex-direction: row; flex-wrap: wrap; justify-content: flex-start; width: 100% }\n",
              "    .wandb-col { display: flex; flex-direction: column; flex-basis: 100%; flex: 1; padding: 10px; }\n",
              "    </style>\n",
              "<div class=\"wandb-row\"><div class=\"wandb-col\"><h3>Run history:</h3><br/><table class=\"wandb\"><tr><td>epoch</td><td>▁▁▁▁▂▂▂▂▂▃▃▃▃▃▃▄▄▄▄▄▅▅▅▅▅▅▆▆▆▆▆▇▇▇▇▇▇███</td></tr><tr><td>loss</td><td>█▄▃▂▂▂▂▁▂▂▁▂▁▁▁▁▁▂▁▁▁▁▁▂▁▁▁▁▁▁▂▁▂▁▁▂▂▂▁▁</td></tr><tr><td>val_loss</td><td>█▅▃▃▂▂▂▂▁▂▁▂▂▂▂▂▁▂▁▁▁▂▁▂▁▂▁▁▂▁▁▂▂▂▂▂▂▁▂▂</td></tr></table><br/></div><div class=\"wandb-col\"><h3>Run summary:</h3><br/><table class=\"wandb\"><tr><td>epoch</td><td>50</td></tr><tr><td>loss</td><td>0.07532</td></tr><tr><td>val_loss</td><td>0.10497</td></tr></table><br/></div></div>"
            ]
          },
          "metadata": {}
        },
        {
          "output_type": "display_data",
          "data": {
            "text/plain": [
              "<IPython.core.display.HTML object>"
            ],
            "text/html": [
              "Synced <strong style=\"color:#cdcd00\">proud-sweep-2</strong>: <a href=\"https://wandb.ai/tz545/UNet-cell-detection/runs/zl2u12xs\" target=\"_blank\">https://wandb.ai/tz545/UNet-cell-detection/runs/zl2u12xs</a><br/>Synced 5 W&B file(s), 0 media file(s), 0 artifact file(s) and 0 other file(s)"
            ]
          },
          "metadata": {}
        },
        {
          "output_type": "display_data",
          "data": {
            "text/plain": [
              "<IPython.core.display.HTML object>"
            ],
            "text/html": [
              "Find logs at: <code>./wandb/run-20221003_100954-zl2u12xs/logs</code>"
            ]
          },
          "metadata": {}
        },
        {
          "output_type": "stream",
          "name": "stderr",
          "text": [
            "\u001b[34m\u001b[1mwandb\u001b[0m: Agent Starting Run: kniv3y2h with config:\n",
            "\u001b[34m\u001b[1mwandb\u001b[0m: \tbatch_size: 1\n",
            "\u001b[34m\u001b[1mwandb\u001b[0m: \tepochs: 50\n",
            "\u001b[34m\u001b[1mwandb\u001b[0m: \tlearning_rate: 0.0005\n",
            "\u001b[34m\u001b[1mwandb\u001b[0m: \tmomentum: 5\n",
            "\u001b[34m\u001b[1mwandb\u001b[0m: \tweight_decay: 1e-08\n",
            "Failed to detect the name of this notebook, you can set it manually with the WANDB_NOTEBOOK_NAME environment variable to enable code saving.\n"
          ]
        },
        {
          "output_type": "display_data",
          "data": {
            "text/plain": [
              "<IPython.core.display.HTML object>"
            ],
            "text/html": [
              "Tracking run with wandb version 0.13.3"
            ]
          },
          "metadata": {}
        },
        {
          "output_type": "display_data",
          "data": {
            "text/plain": [
              "<IPython.core.display.HTML object>"
            ],
            "text/html": [
              "Run data is saved locally in <code>/content/drive/MyDrive/Documents/HLML/Mitchell_Object_Detection/CellDetection/wandb/run-20221003_105702-kniv3y2h</code>"
            ]
          },
          "metadata": {}
        },
        {
          "output_type": "display_data",
          "data": {
            "text/plain": [
              "<IPython.core.display.HTML object>"
            ],
            "text/html": [
              "Syncing run <strong><a href=\"https://wandb.ai/tz545/UNet-cell-detection/runs/kniv3y2h\" target=\"_blank\">eager-sweep-3</a></strong> to <a href=\"https://wandb.ai/tz545/UNet-cell-detection\" target=\"_blank\">Weights & Biases</a> (<a href=\"https://wandb.me/run\" target=\"_blank\">docs</a>)<br/>Sweep page:  <a href=\"https://wandb.ai/tz545/UNet-cell-detection/sweeps/5fgfl1u1\" target=\"_blank\">https://wandb.ai/tz545/UNet-cell-detection/sweeps/5fgfl1u1</a>"
            ]
          },
          "metadata": {}
        },
        {
          "output_type": "stream",
          "name": "stdout",
          "text": [
            "Total training loss:  0.010654656711267307\n",
            "Total validation loss:  0.040370094240643084\n",
            "Total training loss:  0.009621016288292594\n",
            "Total validation loss:  0.036765035474672914\n",
            "Total training loss:  0.00882192426797701\n",
            "Total validation loss:  0.03392432176042348\n",
            "Total training loss:  0.008196097529435065\n",
            "Total validation loss:  0.0317085231654346\n",
            "Total training loss:  0.007698535315284971\n",
            "Total validation loss:  0.029894016159232706\n",
            "Total training loss:  0.007279488749190932\n",
            "Total validation loss:  0.02832855290034786\n",
            "Total training loss:  0.006911856966326013\n",
            "Total validation loss:  0.026935970003250986\n",
            "Total training loss:  0.0065816890419228\n",
            "Total validation loss:  0.02567568578524515\n",
            "Total training loss:  0.006281367346673505\n",
            "Total validation loss:  0.024524601234588772\n",
            "Total training loss:  0.0060064283170504496\n",
            "Total validation loss:  0.023468760948162526\n",
            "Total training loss:  0.005753901819844032\n",
            "Total validation loss:  0.022498023114167154\n",
            "Total training loss:  0.005521464812773047\n",
            "Total validation loss:  0.02160410361830145\n",
            "Total training loss:  0.005307191255269572\n",
            "Total validation loss:  0.020779865444637835\n",
            "Total training loss:  0.00510937875151285\n",
            "Total validation loss:  0.02001892135012895\n",
            "Total training loss:  0.004926482401060639\n",
            "Total validation loss:  0.0193153049913235\n",
            "Total training loss:  0.004757092840009136\n",
            "Total validation loss:  0.01866338204126805\n",
            "Total training loss:  0.0045999028043297585\n",
            "Total validation loss:  0.018058080691844225\n",
            "Total training loss:  0.004453655001270818\n",
            "Total validation loss:  0.017494553641881794\n",
            "Total training loss:  0.004317298516980372\n",
            "Total validation loss:  0.016968748182989657\n",
            "Total training loss:  0.004189854793366976\n",
            "Total validation loss:  0.01647699932800606\n",
            "Total training loss:  0.004070483211762621\n",
            "Total validation loss:  0.016016154375392944\n",
            "Total training loss:  0.003958461309593986\n",
            "Total validation loss:  0.015583425731165335\n",
            "Total training loss:  0.0038531393347511766\n",
            "Total validation loss:  0.015176331100519747\n",
            "Total training loss:  0.003753948178200517\n",
            "Total validation loss:  0.014792811300139874\n",
            "Total training loss:  0.003660384885733947\n",
            "Total validation loss:  0.014430891635129228\n",
            "Total training loss:  0.0035720033447432797\n",
            "Total validation loss:  0.014088900643400848\n",
            "Total training loss:  0.0034884058241004823\n",
            "Total validation loss:  0.013765360519755632\n",
            "Total training loss:  0.003409236140214489\n",
            "Total validation loss:  0.0134589102526661\n",
            "Total training loss:  0.003334158656798536\n",
            "Total validation loss:  0.013168182224035263\n",
            "Total training loss:  0.0032628846747684292\n",
            "Total validation loss:  0.012892220489447936\n",
            "Total training loss:  0.003195147688529687\n",
            "Total validation loss:  0.012629833072423935\n",
            "Total training loss:  0.0031307019544328796\n",
            "Total validation loss:  0.01238019994343631\n",
            "Total training loss:  0.003069323138333857\n",
            "Total validation loss:  0.012142436520662159\n",
            "Total training loss:  0.0030108135506452527\n",
            "Total validation loss:  0.011915801354916766\n",
            "Total training loss:  0.00295498480227252\n",
            "Total validation loss:  0.011699518712703139\n",
            "Total training loss:  0.0029016674434387824\n",
            "Total validation loss:  0.01149297910160385\n",
            "Total training loss:  0.0028507004008133663\n",
            "Total validation loss:  0.01129559162654914\n",
            "Total training loss:  0.0028019400087941904\n",
            "Total validation loss:  0.011106754041975364\n",
            "Total training loss:  0.002755261784841423\n",
            "Total validation loss:  0.010926002287305892\n",
            "Total training loss:  0.0027105280041723745\n",
            "Total validation loss:  0.010752893867902458\n",
            "Total training loss:  0.0026676254401536426\n",
            "Total validation loss:  0.01058677354012616\n",
            "Total training loss:  0.002626460354804294\n",
            "Total validation loss:  0.010427475383039564\n",
            "Total training loss:  0.0025869250239338726\n",
            "Total validation loss:  0.010274572880007327\n",
            "Total training loss:  0.0025489261370239547\n",
            "Total validation loss:  0.010127566929440945\n",
            "Total training loss:  0.0025123828709183726\n",
            "Total validation loss:  0.009986274730181322\n",
            "Total training loss:  0.0024772098895482486\n",
            "Total validation loss:  0.00985030469018966\n",
            "Total training loss:  0.002443331761242007\n",
            "Total validation loss:  0.00971943122567609\n",
            "Total training loss:  0.0024106805576593615\n",
            "Total validation loss:  0.009593313530785963\n",
            "Total training loss:  0.0023791887288098224\n",
            "Total validation loss:  0.009471687400946394\n",
            "Total training loss:  0.0023487933412980055\n",
            "Total validation loss:  0.009354353591334075\n"
          ]
        },
        {
          "output_type": "display_data",
          "data": {
            "text/plain": [
              "<IPython.core.display.HTML object>"
            ],
            "text/html": [
              "Waiting for W&B process to finish... <strong style=\"color:green\">(success).</strong>"
            ]
          },
          "metadata": {}
        },
        {
          "output_type": "display_data",
          "data": {
            "text/plain": [
              "VBox(children=(Label(value='0.001 MB of 0.001 MB uploaded (0.000 MB deduped)\\r'), FloatProgress(value=1.0, max…"
            ],
            "application/vnd.jupyter.widget-view+json": {
              "version_major": 2,
              "version_minor": 0,
              "model_id": "48eacb35a2d14ca48fd76225b249537e"
            }
          },
          "metadata": {}
        },
        {
          "output_type": "display_data",
          "data": {
            "text/plain": [
              "<IPython.core.display.HTML object>"
            ],
            "text/html": [
              "<style>\n",
              "    table.wandb td:nth-child(1) { padding: 0 10px; text-align: left ; width: auto;} td:nth-child(2) {text-align: left ; width: 100%}\n",
              "    .wandb-row { display: flex; flex-direction: row; flex-wrap: wrap; justify-content: flex-start; width: 100% }\n",
              "    .wandb-col { display: flex; flex-direction: column; flex-basis: 100%; flex: 1; padding: 10px; }\n",
              "    </style>\n",
              "<div class=\"wandb-row\"><div class=\"wandb-col\"><h3>Run history:</h3><br/><table class=\"wandb\"><tr><td>epoch</td><td>▁▁▁▁▂▂▂▂▂▃▃▃▃▃▃▄▄▄▄▄▅▅▅▅▅▅▆▆▆▆▆▇▇▇▇▇▇███</td></tr><tr><td>loss</td><td>█▇▆▆▅▅▅▄▄▄▃▃▃▃▃▃▃▂▂▂▂▂▂▂▂▂▂▂▁▂▁▁▁▁▁▁▁▁▁▁</td></tr><tr><td>val_loss</td><td>█▇▇▆▆▅▅▄▄▄▄▄▃▃▃▃▃▃▂▂▂▂▂▂▂▂▂▂▂▂▁▁▂▁▁▁▁▁▁▁</td></tr></table><br/></div><div class=\"wandb-col\"><h3>Run summary:</h3><br/><table class=\"wandb\"><tr><td>epoch</td><td>50</td></tr><tr><td>loss</td><td>0.2798</td></tr><tr><td>val_loss</td><td>0.28425</td></tr></table><br/></div></div>"
            ]
          },
          "metadata": {}
        },
        {
          "output_type": "display_data",
          "data": {
            "text/plain": [
              "<IPython.core.display.HTML object>"
            ],
            "text/html": [
              "Synced <strong style=\"color:#cdcd00\">eager-sweep-3</strong>: <a href=\"https://wandb.ai/tz545/UNet-cell-detection/runs/kniv3y2h\" target=\"_blank\">https://wandb.ai/tz545/UNet-cell-detection/runs/kniv3y2h</a><br/>Synced 5 W&B file(s), 0 media file(s), 0 artifact file(s) and 0 other file(s)"
            ]
          },
          "metadata": {}
        },
        {
          "output_type": "display_data",
          "data": {
            "text/plain": [
              "<IPython.core.display.HTML object>"
            ],
            "text/html": [
              "Find logs at: <code>./wandb/run-20221003_105702-kniv3y2h/logs</code>"
            ]
          },
          "metadata": {}
        },
        {
          "output_type": "stream",
          "name": "stderr",
          "text": [
            "\u001b[34m\u001b[1mwandb\u001b[0m: Agent Starting Run: qerm4u4w with config:\n",
            "\u001b[34m\u001b[1mwandb\u001b[0m: \tbatch_size: 1\n",
            "\u001b[34m\u001b[1mwandb\u001b[0m: \tepochs: 50\n",
            "\u001b[34m\u001b[1mwandb\u001b[0m: \tlearning_rate: 0.0005\n",
            "\u001b[34m\u001b[1mwandb\u001b[0m: \tmomentum: 5\n",
            "\u001b[34m\u001b[1mwandb\u001b[0m: \tweight_decay: 1e-08\n",
            "Failed to detect the name of this notebook, you can set it manually with the WANDB_NOTEBOOK_NAME environment variable to enable code saving.\n"
          ]
        },
        {
          "output_type": "display_data",
          "data": {
            "text/plain": [
              "<IPython.core.display.HTML object>"
            ],
            "text/html": [
              "Tracking run with wandb version 0.13.3"
            ]
          },
          "metadata": {}
        },
        {
          "output_type": "display_data",
          "data": {
            "text/plain": [
              "<IPython.core.display.HTML object>"
            ],
            "text/html": [
              "Run data is saved locally in <code>/content/drive/MyDrive/Documents/HLML/Mitchell_Object_Detection/CellDetection/wandb/run-20221003_114420-qerm4u4w</code>"
            ]
          },
          "metadata": {}
        },
        {
          "output_type": "display_data",
          "data": {
            "text/plain": [
              "<IPython.core.display.HTML object>"
            ],
            "text/html": [
              "Syncing run <strong><a href=\"https://wandb.ai/tz545/UNet-cell-detection/runs/qerm4u4w\" target=\"_blank\">rural-sweep-4</a></strong> to <a href=\"https://wandb.ai/tz545/UNet-cell-detection\" target=\"_blank\">Weights & Biases</a> (<a href=\"https://wandb.me/run\" target=\"_blank\">docs</a>)<br/>Sweep page:  <a href=\"https://wandb.ai/tz545/UNet-cell-detection/sweeps/5fgfl1u1\" target=\"_blank\">https://wandb.ai/tz545/UNet-cell-detection/sweeps/5fgfl1u1</a>"
            ]
          },
          "metadata": {}
        },
        {
          "output_type": "stream",
          "name": "stdout",
          "text": [
            "Total training loss:  0.011563098451006226\n",
            "Total validation loss:  0.04372176015749574\n",
            "Total training loss:  0.01047326725529274\n",
            "Total validation loss:  0.04035496967844665\n",
            "Total training loss:  0.009752946825756226\n",
            "Total validation loss:  0.03781073621939868\n",
            "Total training loss:  0.00916439037246164\n",
            "Total validation loss:  0.03560480277519673\n",
            "Total training loss:  0.008637764614832122\n",
            "Total validation loss:  0.03357680235058069\n",
            "Total training loss:  0.00814807783535798\n",
            "Total validation loss:  0.03169226221507415\n",
            "Total training loss:  0.007700259087869199\n",
            "Total validation loss:  0.029996068216860294\n",
            "Total training loss:  0.007299649339984171\n",
            "Total validation loss:  0.02848159510176629\n",
            "Total training loss:  0.006940989562281175\n",
            "Total validation loss:  0.02712091145804152\n",
            "Total training loss:  0.006617278497287771\n",
            "Total validation loss:  0.025887606316246092\n",
            "Total training loss:  0.006322685814666329\n",
            "Total validation loss:  0.024761142034549266\n",
            "Total training loss:  0.006052779055607971\n",
            "Total validation loss:  0.023726401093881577\n",
            "Total training loss:  0.005804277021525195\n",
            "Total validation loss:  0.02277163346298039\n",
            "Total training loss:  0.005574555299972417\n",
            "Total validation loss:  0.02188758266856894\n",
            "Total training loss:  0.0053615196302416734\n",
            "Total validation loss:  0.021066609828267246\n",
            "Total training loss:  0.005163424066267908\n",
            "Total validation loss:  0.0203024604707025\n",
            "Total training loss:  0.004978871602361323\n",
            "Total validation loss:  0.019590009527746588\n",
            "Total training loss:  0.004806656103028217\n",
            "Total validation loss:  0.018924882577266544\n",
            "Total training loss:  0.004645779339625733\n",
            "Total validation loss:  0.01830331061501056\n",
            "Total training loss:  0.004495341505389661\n",
            "Total validation loss:  0.01772200525738299\n",
            "Total training loss:  0.004354581484221853\n",
            "Total validation loss:  0.01717804034706205\n",
            "Total training loss:  0.0042227716658089776\n",
            "Total validation loss:  0.01666853652568534\n",
            "Total training loss:  0.004099232304724865\n",
            "Total validation loss:  0.01619090943131596\n",
            "Total training loss:  0.00398332755867159\n",
            "Total validation loss:  0.01574270988930948\n",
            "Total training loss:  0.003874491718306672\n",
            "Total validation loss:  0.01532164087984711\n",
            "Total training loss:  0.0037721383978350786\n",
            "Total validation loss:  0.01492551204864867\n",
            "Total training loss:  0.0036757710131496424\n",
            "Total validation loss:  0.01455234209424816\n",
            "Total training loss:  0.003584917130865506\n",
            "Total validation loss:  0.01420030725421384\n",
            "Total training loss:  0.0034991344218724407\n",
            "Total validation loss:  0.013867776229744777\n",
            "Total training loss:  0.0034180488091806183\n",
            "Total validation loss:  0.013553298747865483\n",
            "Total training loss:  0.0033413168512197444\n",
            "Total validation loss:  0.013255596772069111\n",
            "Total training loss:  0.0032686304348317208\n",
            "Total validation loss:  0.012973464035894722\n",
            "Total training loss:  0.003199697390300571\n",
            "Total validation loss:  0.012705735221970826\n",
            "Total training loss:  0.003134251905066776\n",
            "Total validation loss:  0.012451412185328081\n",
            "Total training loss:  0.003072058185352944\n",
            "Total validation loss:  0.012209647451527417\n",
            "Total training loss:  0.003012899143868708\n",
            "Total validation loss:  0.011979638977209106\n",
            "Total training loss:  0.002956568103400059\n",
            "Total validation loss:  0.011760563415009528\n",
            "Total training loss:  0.002902901729612495\n",
            "Total validation loss:  0.011551623523700982\n",
            "Total training loss:  0.002851679922969197\n",
            "Total validation loss:  0.01135216502007097\n",
            "Total training loss:  0.0028027926546201343\n",
            "Total validation loss:  0.011161749891471118\n",
            "Total training loss:  0.002756069923634641\n",
            "Total validation loss:  0.010979689774103463\n",
            "Total training loss:  0.002711378867388703\n",
            "Total validation loss:  0.010805572557728738\n",
            "Total training loss:  0.002668614593858365\n",
            "Total validation loss:  0.010638729901984334\n",
            "Total training loss:  0.0026276429980498506\n",
            "Total validation loss:  0.010478927521035075\n",
            "Total training loss:  0.0025883666676236317\n",
            "Total validation loss:  0.010325639130314812\n",
            "Total training loss:  0.0025506898091407493\n",
            "Total validation loss:  0.010178548691328615\n",
            "Total training loss:  0.002514524989237543\n",
            "Total validation loss:  0.01003736726124771\n",
            "Total training loss:  0.0024797731275612023\n",
            "Total validation loss:  0.009901585668558255\n",
            "Total training loss:  0.0024463580011797603\n",
            "Total validation loss:  0.009771029639523476\n",
            "Total training loss:  0.0024142076854332117\n",
            "Total validation loss:  0.009645401500165462\n"
          ]
        },
        {
          "output_type": "display_data",
          "data": {
            "text/plain": [
              "<IPython.core.display.HTML object>"
            ],
            "text/html": [
              "Waiting for W&B process to finish... <strong style=\"color:green\">(success).</strong>"
            ]
          },
          "metadata": {}
        },
        {
          "output_type": "display_data",
          "data": {
            "text/plain": [
              "VBox(children=(Label(value='0.001 MB of 0.001 MB uploaded (0.000 MB deduped)\\r'), FloatProgress(value=1.0, max…"
            ],
            "application/vnd.jupyter.widget-view+json": {
              "version_major": 2,
              "version_minor": 0,
              "model_id": "1e6fd52cb8984cf8a357957056473d93"
            }
          },
          "metadata": {}
        },
        {
          "output_type": "display_data",
          "data": {
            "text/plain": [
              "<IPython.core.display.HTML object>"
            ],
            "text/html": [
              "<style>\n",
              "    table.wandb td:nth-child(1) { padding: 0 10px; text-align: left ; width: auto;} td:nth-child(2) {text-align: left ; width: 100%}\n",
              "    .wandb-row { display: flex; flex-direction: row; flex-wrap: wrap; justify-content: flex-start; width: 100% }\n",
              "    .wandb-col { display: flex; flex-direction: column; flex-basis: 100%; flex: 1; padding: 10px; }\n",
              "    </style>\n",
              "<div class=\"wandb-row\"><div class=\"wandb-col\"><h3>Run history:</h3><br/><table class=\"wandb\"><tr><td>epoch</td><td>▁▁▁▁▂▂▂▂▂▃▃▃▃▃▃▄▄▄▄▄▅▅▅▅▅▅▆▆▆▆▆▇▇▇▇▇▇███</td></tr><tr><td>loss</td><td>█▇▆▆▅▅▅▄▄▄▄▃▃▃▃▃▂▂▂▂▂▂▂▂▂▂▂▂▂▁▁▁▁▁▁▁▁▁▁▁</td></tr><tr><td>val_loss</td><td>██▇▇▆▅▅▅▄▄▄▄▃▃▃▃▃▂▂▂▂▂▂▂▂▂▂▁▂▂▁▁▁▁▁▁▁▁▁▁</td></tr></table><br/></div><div class=\"wandb-col\"><h3>Run summary:</h3><br/><table class=\"wandb\"><tr><td>epoch</td><td>50</td></tr><tr><td>loss</td><td>0.30938</td></tr><tr><td>val_loss</td><td>0.32406</td></tr></table><br/></div></div>"
            ]
          },
          "metadata": {}
        },
        {
          "output_type": "display_data",
          "data": {
            "text/plain": [
              "<IPython.core.display.HTML object>"
            ],
            "text/html": [
              "Synced <strong style=\"color:#cdcd00\">rural-sweep-4</strong>: <a href=\"https://wandb.ai/tz545/UNet-cell-detection/runs/qerm4u4w\" target=\"_blank\">https://wandb.ai/tz545/UNet-cell-detection/runs/qerm4u4w</a><br/>Synced 5 W&B file(s), 0 media file(s), 0 artifact file(s) and 0 other file(s)"
            ]
          },
          "metadata": {}
        },
        {
          "output_type": "display_data",
          "data": {
            "text/plain": [
              "<IPython.core.display.HTML object>"
            ],
            "text/html": [
              "Find logs at: <code>./wandb/run-20221003_114420-qerm4u4w/logs</code>"
            ]
          },
          "metadata": {}
        },
        {
          "output_type": "stream",
          "name": "stderr",
          "text": [
            "\u001b[34m\u001b[1mwandb\u001b[0m: Agent Starting Run: 1j86z8on with config:\n",
            "\u001b[34m\u001b[1mwandb\u001b[0m: \tbatch_size: 1\n",
            "\u001b[34m\u001b[1mwandb\u001b[0m: \tepochs: 50\n",
            "\u001b[34m\u001b[1mwandb\u001b[0m: \tlearning_rate: 0.0005\n",
            "\u001b[34m\u001b[1mwandb\u001b[0m: \tmomentum: 5\n",
            "\u001b[34m\u001b[1mwandb\u001b[0m: \tweight_decay: 1e-07\n",
            "Failed to detect the name of this notebook, you can set it manually with the WANDB_NOTEBOOK_NAME environment variable to enable code saving.\n"
          ]
        },
        {
          "output_type": "display_data",
          "data": {
            "text/plain": [
              "<IPython.core.display.HTML object>"
            ],
            "text/html": [
              "Tracking run with wandb version 0.13.3"
            ]
          },
          "metadata": {}
        },
        {
          "output_type": "display_data",
          "data": {
            "text/plain": [
              "<IPython.core.display.HTML object>"
            ],
            "text/html": [
              "Run data is saved locally in <code>/content/drive/MyDrive/Documents/HLML/Mitchell_Object_Detection/CellDetection/wandb/run-20221003_123134-1j86z8on</code>"
            ]
          },
          "metadata": {}
        },
        {
          "output_type": "display_data",
          "data": {
            "text/plain": [
              "<IPython.core.display.HTML object>"
            ],
            "text/html": [
              "Syncing run <strong><a href=\"https://wandb.ai/tz545/UNet-cell-detection/runs/1j86z8on\" target=\"_blank\">lively-sweep-5</a></strong> to <a href=\"https://wandb.ai/tz545/UNet-cell-detection\" target=\"_blank\">Weights & Biases</a> (<a href=\"https://wandb.me/run\" target=\"_blank\">docs</a>)<br/>Sweep page:  <a href=\"https://wandb.ai/tz545/UNet-cell-detection/sweeps/5fgfl1u1\" target=\"_blank\">https://wandb.ai/tz545/UNet-cell-detection/sweeps/5fgfl1u1</a>"
            ]
          },
          "metadata": {}
        },
        {
          "output_type": "stream",
          "name": "stdout",
          "text": [
            "Total training loss:  0.01229207052529091\n",
            "Total validation loss:  0.04643997107632458\n",
            "Total training loss:  0.011073205154389143\n",
            "Total validation loss:  0.04229080432560295\n",
            "Total training loss:  0.010148520181246568\n",
            "Total validation loss:  0.03900981473270804\n",
            "Total training loss:  0.009391316991241183\n",
            "Total validation loss:  0.036241548135876656\n",
            "Total training loss:  0.008749479355174117\n",
            "Total validation loss:  0.033883515861816704\n",
            "Total training loss:  0.008202126475225668\n",
            "Total validation loss:  0.03186442703008652\n",
            "Total training loss:  0.007730570025159977\n",
            "Total validation loss:  0.03010909107979387\n",
            "Total training loss:  0.007317580304516014\n",
            "Total validation loss:  0.028558032063301653\n",
            "Total training loss:  0.006950251161470078\n",
            "Total validation loss:  0.027167739463038743\n",
            "Total training loss:  0.006619466341362568\n",
            "Total validation loss:  0.02590874955058098\n",
            "Total training loss:  0.00631900275402586\n",
            "Total validation loss:  0.024760925269220024\n",
            "Total training loss:  0.006044562545866938\n",
            "Total validation loss:  0.023709307133685797\n",
            "Total training loss:  0.005792728545202408\n",
            "Total validation loss:  0.022742078523151577\n",
            "Total training loss:  0.005560821959079476\n",
            "Total validation loss:  0.021849292039405555\n",
            "Total training loss:  0.005346527610527119\n",
            "Total validation loss:  0.02102276450023055\n",
            "Total training loss:  0.0051479975882102735\n",
            "Total validation loss:  0.020255859300959855\n",
            "Total training loss:  0.004963699946529232\n",
            "Total validation loss:  0.019543198286555707\n",
            "Total training loss:  0.0047923671882017516\n",
            "Total validation loss:  0.018879972922150046\n",
            "Total training loss:  0.00463280778421904\n",
            "Total validation loss:  0.018261707271449268\n",
            "Total training loss:  0.004484035343921278\n",
            "Total validation loss:  0.017684834194369614\n",
            "Total training loss:  0.004345095792814391\n",
            "Total validation loss:  0.017145655874628574\n",
            "Total training loss:  0.004215174980345182\n",
            "Total validation loss:  0.016641102847643197\n",
            "Total training loss:  0.004093496176210465\n",
            "Total validation loss:  0.01616818134789355\n",
            "Total training loss:  0.003979364921178785\n",
            "Total validation loss:  0.015724188153399155\n",
            "Total training loss:  0.003872174418575014\n",
            "Total validation loss:  0.015306884655728936\n",
            "Total training loss:  0.003771362416955526\n",
            "Total validation loss:  0.01491415873169899\n",
            "Total training loss:  0.0036764264641533373\n",
            "Total validation loss:  0.014544106816174462\n",
            "Total training loss:  0.003586920822272077\n",
            "Total validation loss:  0.01419487749808468\n",
            "Total training loss:  0.0035024514927499695\n",
            "Total validation loss:  0.01386511538294144\n",
            "Total training loss:  0.003422637639232562\n",
            "Total validation loss:  0.013553412747569382\n",
            "Total training loss:  0.0033471465485490626\n",
            "Total validation loss:  0.01325841000652872\n",
            "Total training loss:  0.0032756644341134233\n",
            "Total validation loss:  0.012978799670236185\n",
            "Total training loss:  0.003207931395081687\n",
            "Total validation loss:  0.012713724485365674\n",
            "Total training loss:  0.003143687288684305\n",
            "Total validation loss:  0.012462307640817016\n",
            "Total training loss:  0.003082698402067763\n",
            "Total validation loss:  0.012223484634887427\n",
            "Total training loss:  0.0030247479753597872\n",
            "Total validation loss:  0.011996404820820317\n",
            "Total training loss:  0.0029696380843233783\n",
            "Total validation loss:  0.011780284286942333\n",
            "Total training loss:  0.002917182253440842\n",
            "Total validation loss:  0.011574537551496178\n",
            "Total training loss:  0.0028672164316958515\n",
            "Total validation loss:  0.011378506722394377\n",
            "Total training loss:  0.002819587540216162\n",
            "Total validation loss:  0.011191497469553724\n",
            "Total training loss:  0.002774136932202964\n",
            "Total validation loss:  0.011012860399205238\n",
            "Total training loss:  0.002730745036387816\n",
            "Total validation loss:  0.01084231398999691\n",
            "Total training loss:  0.0026892833466263255\n",
            "Total validation loss:  0.010679289553081617\n",
            "Total training loss:  0.002649631289386889\n",
            "Total validation loss:  0.010523411445319653\n",
            "Total training loss:  0.0026116781882592477\n",
            "Total validation loss:  0.010374219942605123\n",
            "Total training loss:  0.002575330901890993\n",
            "Total validation loss:  0.010231231688521802\n",
            "Total training loss:  0.00254049411341839\n",
            "Total validation loss:  0.010093948192661628\n",
            "Total training loss:  0.00250707730447175\n",
            "Total validation loss:  0.009962313633877784\n",
            "Total training loss:  0.002474993343639653\n",
            "Total validation loss:  0.009835843608016148\n",
            "Total training loss:  0.0024441731493425323\n",
            "Total validation loss:  0.00971433165250346\n"
          ]
        },
        {
          "output_type": "display_data",
          "data": {
            "text/plain": [
              "<IPython.core.display.HTML object>"
            ],
            "text/html": [
              "Waiting for W&B process to finish... <strong style=\"color:green\">(success).</strong>"
            ]
          },
          "metadata": {}
        },
        {
          "output_type": "display_data",
          "data": {
            "text/plain": [
              "VBox(children=(Label(value='0.001 MB of 0.001 MB uploaded (0.000 MB deduped)\\r'), FloatProgress(value=1.0, max…"
            ],
            "application/vnd.jupyter.widget-view+json": {
              "version_major": 2,
              "version_minor": 0,
              "model_id": "5563268acf374982a9ff7d31f8c0a57f"
            }
          },
          "metadata": {}
        },
        {
          "output_type": "display_data",
          "data": {
            "text/plain": [
              "<IPython.core.display.HTML object>"
            ],
            "text/html": [
              "<style>\n",
              "    table.wandb td:nth-child(1) { padding: 0 10px; text-align: left ; width: auto;} td:nth-child(2) {text-align: left ; width: 100%}\n",
              "    .wandb-row { display: flex; flex-direction: row; flex-wrap: wrap; justify-content: flex-start; width: 100% }\n",
              "    .wandb-col { display: flex; flex-direction: column; flex-basis: 100%; flex: 1; padding: 10px; }\n",
              "    </style>\n",
              "<div class=\"wandb-row\"><div class=\"wandb-col\"><h3>Run history:</h3><br/><table class=\"wandb\"><tr><td>epoch</td><td>▁▁▁▁▂▂▂▂▂▃▃▃▃▃▃▄▄▄▄▄▅▅▅▅▅▅▆▆▆▆▆▇▇▇▇▇▇███</td></tr><tr><td>loss</td><td>█▇▆▆▅▅▄▄▄▄▃▃▃▃▃▂▂▂▂▂▂▂▂▂▂▂▁▂▁▂▁▁▁▁▁▁▁▁▁▁</td></tr><tr><td>val_loss</td><td>█▇▇▆▅▅▅▄▄▄▄▃▃▃▃▃▂▂▂▂▂▂▂▂▂▂▂▁▁▂▁▁▁▁▁▁▁▁▁▁</td></tr></table><br/></div><div class=\"wandb-col\"><h3>Run summary:</h3><br/><table class=\"wandb\"><tr><td>epoch</td><td>50</td></tr><tr><td>loss</td><td>0.33356</td></tr><tr><td>val_loss</td><td>0.30039</td></tr></table><br/></div></div>"
            ]
          },
          "metadata": {}
        },
        {
          "output_type": "display_data",
          "data": {
            "text/plain": [
              "<IPython.core.display.HTML object>"
            ],
            "text/html": [
              "Synced <strong style=\"color:#cdcd00\">lively-sweep-5</strong>: <a href=\"https://wandb.ai/tz545/UNet-cell-detection/runs/1j86z8on\" target=\"_blank\">https://wandb.ai/tz545/UNet-cell-detection/runs/1j86z8on</a><br/>Synced 5 W&B file(s), 0 media file(s), 0 artifact file(s) and 0 other file(s)"
            ]
          },
          "metadata": {}
        },
        {
          "output_type": "display_data",
          "data": {
            "text/plain": [
              "<IPython.core.display.HTML object>"
            ],
            "text/html": [
              "Find logs at: <code>./wandb/run-20221003_123134-1j86z8on/logs</code>"
            ]
          },
          "metadata": {}
        }
      ]
    }
  ]
}